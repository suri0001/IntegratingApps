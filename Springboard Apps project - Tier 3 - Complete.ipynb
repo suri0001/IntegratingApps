{
 "cells": [
  {
   "cell_type": "markdown",
   "metadata": {
    "colab_type": "text",
    "id": "i2RUFW7TFcuh"
   },
   "source": [
    "# Springboard Apps project - Tier 3 - Complete\n",
    "\n",
    "Welcome to the Apps project! To give you a taste of your future career, we're going to walk through exactly the kind of notebook that you'd write as a data scientist. In the process, we'll be sure to signpost the general framework for our investigation - the Data Science Pipeline - as well as give reasons for why we're doing what we're doing. We're also going to apply some of the skills and knowledge you've built up in the previous unit when reading Professor Spiegelhalter's *The Art of Statistics* (hereinafter *AoS*). \n",
    "\n",
    "So let's get cracking!\n",
    "\n",
    "**Brief**\n",
    "\n",
    "Did Apple Store apps receive better reviews than Google Play apps?\n",
    "\n",
    "## Stages of the project\n",
    "\n",
    "1. Sourcing and loading \n",
    "    * Load the two datasets\n",
    "    * Pick the columns that we are going to work with \n",
    "    * Subsetting the data on this basis \n",
    " \n",
    " \n",
    "2. Cleaning, transforming and visualizing\n",
    "    * Check the data types and fix them\n",
    "    * Add a `platform` column to both the `Apple` and the `Google` dataframes\n",
    "    * Changing the column names to prepare for a join \n",
    "    * Join the two data sets\n",
    "    * Eliminate the `NaN` values\n",
    "    * Filter only those apps that have been reviewed at least once\n",
    "    * Summarize the data visually and analytically (by the column `platform`)  \n",
    "  \n",
    "  \n",
    "3. Modelling \n",
    "    * Hypothesis formulation\n",
    "    * Getting the distribution of the data\n",
    "    * Permutation test \n",
    "\n",
    "\n",
    "4. Evaluating and concluding \n",
    "    * What is our conclusion?\n",
    "    * What is our decision?\n",
    "    * Other models we could have used. \n",
    "    "
   ]
  },
  {
   "cell_type": "markdown",
   "metadata": {
    "colab_type": "text",
    "id": "QLUAXtl1Fcuk"
   },
   "source": [
    "## Importing the libraries\n",
    "\n",
    "In this case we are going to import pandas, numpy, scipy, random and matplotlib.pyplot"
   ]
  },
  {
   "cell_type": "code",
   "execution_count": 41,
   "metadata": {
    "colab": {},
    "colab_type": "code",
    "id": "XeXJOlGiFcum"
   },
   "outputs": [],
   "source": [
    "import pandas as pd\n",
    "import numpy as np\n",
    "import matplotlib.pyplot as plt\n",
    "# scipi is a library for statistical tests and visualizations \n",
    "from scipy import stats\n",
    "# random enables us to generate random numbers\n",
    "import random"
   ]
  },
  {
   "cell_type": "markdown",
   "metadata": {
    "colab_type": "text",
    "id": "zVD7NlPAFcup"
   },
   "source": [
    "## Stage 1 -  Sourcing and loading data"
   ]
  },
  {
   "cell_type": "markdown",
   "metadata": {
    "colab_type": "text",
    "id": "KU8bdbImFcuq"
   },
   "source": [
    "### 1a. Source and load the data\n",
    "Let's download the data from Kaggle. Kaggle is a fantastic resource: a kind of social medium for data scientists, it boasts projects, datasets and news on the freshest libraries and technologies all in one place. The data from the Apple Store can be found [here](https://www.kaggle.com/ramamet4/app-store-apple-data-set-10k-apps) and the data from Google Store can be found [here](https://www.kaggle.com/lava18/google-play-store-apps).\n",
    "Download the datasets and save them in your working directory."
   ]
  },
  {
   "cell_type": "code",
   "execution_count": 42,
   "metadata": {
    "colab": {},
    "colab_type": "code",
    "id": "laM1PB76Fcur"
   },
   "outputs": [
    {
     "data": {
      "text/html": [
       "<div>\n",
       "<style scoped>\n",
       "    .dataframe tbody tr th:only-of-type {\n",
       "        vertical-align: middle;\n",
       "    }\n",
       "\n",
       "    .dataframe tbody tr th {\n",
       "        vertical-align: top;\n",
       "    }\n",
       "\n",
       "    .dataframe thead th {\n",
       "        text-align: right;\n",
       "    }\n",
       "</style>\n",
       "<table border=\"1\" class=\"dataframe\">\n",
       "  <thead>\n",
       "    <tr style=\"text-align: right;\">\n",
       "      <th></th>\n",
       "      <th>App</th>\n",
       "      <th>Category</th>\n",
       "      <th>Rating</th>\n",
       "      <th>Reviews</th>\n",
       "      <th>Size</th>\n",
       "      <th>Installs</th>\n",
       "      <th>Type</th>\n",
       "      <th>Price</th>\n",
       "      <th>Content Rating</th>\n",
       "      <th>Genres</th>\n",
       "      <th>Last Updated</th>\n",
       "      <th>Current Ver</th>\n",
       "      <th>Android Ver</th>\n",
       "    </tr>\n",
       "  </thead>\n",
       "  <tbody>\n",
       "    <tr>\n",
       "      <th>0</th>\n",
       "      <td>Photo Editor &amp; Candy Camera &amp; Grid &amp; ScrapBook</td>\n",
       "      <td>ART_AND_DESIGN</td>\n",
       "      <td>4.1</td>\n",
       "      <td>159</td>\n",
       "      <td>19M</td>\n",
       "      <td>10,000+</td>\n",
       "      <td>Free</td>\n",
       "      <td>0</td>\n",
       "      <td>Everyone</td>\n",
       "      <td>Art &amp; Design</td>\n",
       "      <td>January 7, 2018</td>\n",
       "      <td>1.0.0</td>\n",
       "      <td>4.0.3 and up</td>\n",
       "    </tr>\n",
       "    <tr>\n",
       "      <th>1</th>\n",
       "      <td>Coloring book moana</td>\n",
       "      <td>ART_AND_DESIGN</td>\n",
       "      <td>3.9</td>\n",
       "      <td>967</td>\n",
       "      <td>14M</td>\n",
       "      <td>500,000+</td>\n",
       "      <td>Free</td>\n",
       "      <td>0</td>\n",
       "      <td>Everyone</td>\n",
       "      <td>Art &amp; Design;Pretend Play</td>\n",
       "      <td>January 15, 2018</td>\n",
       "      <td>2.0.0</td>\n",
       "      <td>4.0.3 and up</td>\n",
       "    </tr>\n",
       "    <tr>\n",
       "      <th>2</th>\n",
       "      <td>U Launcher Lite – FREE Live Cool Themes, Hide ...</td>\n",
       "      <td>ART_AND_DESIGN</td>\n",
       "      <td>4.7</td>\n",
       "      <td>87510</td>\n",
       "      <td>8.7M</td>\n",
       "      <td>5,000,000+</td>\n",
       "      <td>Free</td>\n",
       "      <td>0</td>\n",
       "      <td>Everyone</td>\n",
       "      <td>Art &amp; Design</td>\n",
       "      <td>August 1, 2018</td>\n",
       "      <td>1.2.4</td>\n",
       "      <td>4.0.3 and up</td>\n",
       "    </tr>\n",
       "  </tbody>\n",
       "</table>\n",
       "</div>"
      ],
      "text/plain": [
       "                                                 App        Category  Rating  \\\n",
       "0     Photo Editor & Candy Camera & Grid & ScrapBook  ART_AND_DESIGN     4.1   \n",
       "1                                Coloring book moana  ART_AND_DESIGN     3.9   \n",
       "2  U Launcher Lite – FREE Live Cool Themes, Hide ...  ART_AND_DESIGN     4.7   \n",
       "\n",
       "  Reviews  Size    Installs  Type Price Content Rating  \\\n",
       "0     159   19M     10,000+  Free     0       Everyone   \n",
       "1     967   14M    500,000+  Free     0       Everyone   \n",
       "2   87510  8.7M  5,000,000+  Free     0       Everyone   \n",
       "\n",
       "                      Genres      Last Updated Current Ver   Android Ver  \n",
       "0               Art & Design   January 7, 2018       1.0.0  4.0.3 and up  \n",
       "1  Art & Design;Pretend Play  January 15, 2018       2.0.0  4.0.3 and up  \n",
       "2               Art & Design    August 1, 2018       1.2.4  4.0.3 and up  "
      ]
     },
     "execution_count": 42,
     "metadata": {},
     "output_type": "execute_result"
    }
   ],
   "source": [
    "# Now that the files are saved, we want to load them into Python using read_csv and pandas.\n",
    "\n",
    "# Create a variable called google, and store in it the path of the csv file that contains your google dataset. \n",
    "# If your dataset is in the same folder as this notebook, the path will simply be the name of the file. \n",
    "google = \"googleplaystore.csv\"\n",
    "\n",
    "# Read the csv file into a data frame called Google using the read_csv() pandas method.\n",
    "Google = pd.read_csv(google)\n",
    "# Using the head() pandas method, observe the first three entries.\n",
    "Google.head(3)"
   ]
  },
  {
   "cell_type": "code",
   "execution_count": 43,
   "metadata": {
    "colab": {},
    "colab_type": "code",
    "id": "3AW8EA1wFcuu"
   },
   "outputs": [
    {
     "data": {
      "text/html": [
       "<div>\n",
       "<style scoped>\n",
       "    .dataframe tbody tr th:only-of-type {\n",
       "        vertical-align: middle;\n",
       "    }\n",
       "\n",
       "    .dataframe tbody tr th {\n",
       "        vertical-align: top;\n",
       "    }\n",
       "\n",
       "    .dataframe thead th {\n",
       "        text-align: right;\n",
       "    }\n",
       "</style>\n",
       "<table border=\"1\" class=\"dataframe\">\n",
       "  <thead>\n",
       "    <tr style=\"text-align: right;\">\n",
       "      <th></th>\n",
       "      <th>Unnamed: 0</th>\n",
       "      <th>id</th>\n",
       "      <th>track_name</th>\n",
       "      <th>size_bytes</th>\n",
       "      <th>currency</th>\n",
       "      <th>price</th>\n",
       "      <th>rating_count_tot</th>\n",
       "      <th>rating_count_ver</th>\n",
       "      <th>user_rating</th>\n",
       "      <th>user_rating_ver</th>\n",
       "      <th>ver</th>\n",
       "      <th>cont_rating</th>\n",
       "      <th>prime_genre</th>\n",
       "      <th>sup_devices.num</th>\n",
       "      <th>ipadSc_urls.num</th>\n",
       "      <th>lang.num</th>\n",
       "      <th>vpp_lic</th>\n",
       "    </tr>\n",
       "  </thead>\n",
       "  <tbody>\n",
       "    <tr>\n",
       "      <th>0</th>\n",
       "      <td>1</td>\n",
       "      <td>281656475</td>\n",
       "      <td>PAC-MAN Premium</td>\n",
       "      <td>100788224</td>\n",
       "      <td>USD</td>\n",
       "      <td>3.99</td>\n",
       "      <td>21292</td>\n",
       "      <td>26</td>\n",
       "      <td>4.0</td>\n",
       "      <td>4.5</td>\n",
       "      <td>6.3.5</td>\n",
       "      <td>4+</td>\n",
       "      <td>Games</td>\n",
       "      <td>38</td>\n",
       "      <td>5</td>\n",
       "      <td>10</td>\n",
       "      <td>1</td>\n",
       "    </tr>\n",
       "    <tr>\n",
       "      <th>1</th>\n",
       "      <td>2</td>\n",
       "      <td>281796108</td>\n",
       "      <td>Evernote - stay organized</td>\n",
       "      <td>158578688</td>\n",
       "      <td>USD</td>\n",
       "      <td>0.00</td>\n",
       "      <td>161065</td>\n",
       "      <td>26</td>\n",
       "      <td>4.0</td>\n",
       "      <td>3.5</td>\n",
       "      <td>8.2.2</td>\n",
       "      <td>4+</td>\n",
       "      <td>Productivity</td>\n",
       "      <td>37</td>\n",
       "      <td>5</td>\n",
       "      <td>23</td>\n",
       "      <td>1</td>\n",
       "    </tr>\n",
       "    <tr>\n",
       "      <th>2</th>\n",
       "      <td>3</td>\n",
       "      <td>281940292</td>\n",
       "      <td>WeatherBug - Local Weather, Radar, Maps, Alerts</td>\n",
       "      <td>100524032</td>\n",
       "      <td>USD</td>\n",
       "      <td>0.00</td>\n",
       "      <td>188583</td>\n",
       "      <td>2822</td>\n",
       "      <td>3.5</td>\n",
       "      <td>4.5</td>\n",
       "      <td>5.0.0</td>\n",
       "      <td>4+</td>\n",
       "      <td>Weather</td>\n",
       "      <td>37</td>\n",
       "      <td>5</td>\n",
       "      <td>3</td>\n",
       "      <td>1</td>\n",
       "    </tr>\n",
       "  </tbody>\n",
       "</table>\n",
       "</div>"
      ],
      "text/plain": [
       "   Unnamed: 0         id                                       track_name  \\\n",
       "0           1  281656475                                  PAC-MAN Premium   \n",
       "1           2  281796108                        Evernote - stay organized   \n",
       "2           3  281940292  WeatherBug - Local Weather, Radar, Maps, Alerts   \n",
       "\n",
       "   size_bytes currency  price  rating_count_tot  rating_count_ver  \\\n",
       "0   100788224      USD   3.99             21292                26   \n",
       "1   158578688      USD   0.00            161065                26   \n",
       "2   100524032      USD   0.00            188583              2822   \n",
       "\n",
       "   user_rating  user_rating_ver    ver cont_rating   prime_genre  \\\n",
       "0          4.0              4.5  6.3.5          4+         Games   \n",
       "1          4.0              3.5  8.2.2          4+  Productivity   \n",
       "2          3.5              4.5  5.0.0          4+       Weather   \n",
       "\n",
       "   sup_devices.num  ipadSc_urls.num  lang.num  vpp_lic  \n",
       "0               38                5        10        1  \n",
       "1               37                5        23        1  \n",
       "2               37                5         3        1  "
      ]
     },
     "execution_count": 43,
     "metadata": {},
     "output_type": "execute_result"
    }
   ],
   "source": [
    "# Create a variable called apple, and store in it the path of the csv file that contains your apple dataset. \n",
    "apple = \"AppleStore.csv\"\n",
    "\n",
    "# Read the csv file into a pandas DataFrame object called Apple.\n",
    "Apple = pd.read_csv(apple)\n",
    "\n",
    "# Observe the first three entries like you did with your other data. \n",
    "Apple.head(3)"
   ]
  },
  {
   "cell_type": "markdown",
   "metadata": {
    "colab_type": "text",
    "id": "vljOHKNTFcuw"
   },
   "source": [
    "### 1b. Pick the columns we'll work with\n",
    "\n",
    "From the documentation of these datasets, we can infer that the most appropriate columns to answer the brief are:\n",
    "\n",
    "1. Google:\n",
    "    * `Category` # Do we need this?\n",
    "    * `Rating`\n",
    "    * `Reviews`\n",
    "    * `Price` (maybe)\n",
    "2. Apple:    \n",
    "    * `prime_genre` # Do we need this?\n",
    "    * `user_rating` \n",
    "    * `rating_count_tot`\n",
    "    * `price` (maybe)"
   ]
  },
  {
   "cell_type": "markdown",
   "metadata": {
    "colab_type": "text",
    "id": "uf69AeTvFcux"
   },
   "source": [
    "### 1c. Subsetting accordingly\n",
    "\n",
    "Let's select only those columns that we want to work with from both datasets. We'll overwrite the subsets in the original variables."
   ]
  },
  {
   "cell_type": "code",
   "execution_count": 44,
   "metadata": {
    "colab": {},
    "colab_type": "code",
    "id": "LNSDXyjdFcuy"
   },
   "outputs": [
    {
     "data": {
      "text/html": [
       "<div>\n",
       "<style scoped>\n",
       "    .dataframe tbody tr th:only-of-type {\n",
       "        vertical-align: middle;\n",
       "    }\n",
       "\n",
       "    .dataframe tbody tr th {\n",
       "        vertical-align: top;\n",
       "    }\n",
       "\n",
       "    .dataframe thead th {\n",
       "        text-align: right;\n",
       "    }\n",
       "</style>\n",
       "<table border=\"1\" class=\"dataframe\">\n",
       "  <thead>\n",
       "    <tr style=\"text-align: right;\">\n",
       "      <th></th>\n",
       "      <th>Category</th>\n",
       "      <th>Rating</th>\n",
       "      <th>Reviews</th>\n",
       "      <th>Price</th>\n",
       "    </tr>\n",
       "  </thead>\n",
       "  <tbody>\n",
       "    <tr>\n",
       "      <th>0</th>\n",
       "      <td>ART_AND_DESIGN</td>\n",
       "      <td>4.1</td>\n",
       "      <td>159</td>\n",
       "      <td>0</td>\n",
       "    </tr>\n",
       "    <tr>\n",
       "      <th>1</th>\n",
       "      <td>ART_AND_DESIGN</td>\n",
       "      <td>3.9</td>\n",
       "      <td>967</td>\n",
       "      <td>0</td>\n",
       "    </tr>\n",
       "    <tr>\n",
       "      <th>2</th>\n",
       "      <td>ART_AND_DESIGN</td>\n",
       "      <td>4.7</td>\n",
       "      <td>87510</td>\n",
       "      <td>0</td>\n",
       "    </tr>\n",
       "  </tbody>\n",
       "</table>\n",
       "</div>"
      ],
      "text/plain": [
       "         Category  Rating Reviews Price\n",
       "0  ART_AND_DESIGN     4.1     159     0\n",
       "1  ART_AND_DESIGN     3.9     967     0\n",
       "2  ART_AND_DESIGN     4.7   87510     0"
      ]
     },
     "execution_count": 44,
     "metadata": {},
     "output_type": "execute_result"
    }
   ],
   "source": [
    "# Subset our DataFrame object Google by selecting just the variables ['Category', 'Rating', 'Reviews', 'Price']\n",
    "Google = Google[['Category', 'Rating', 'Reviews', 'Price']]\n",
    "\n",
    "# Check the first three entries\n",
    "Google.head(3)"
   ]
  },
  {
   "cell_type": "code",
   "execution_count": 45,
   "metadata": {
    "colab": {},
    "colab_type": "code",
    "id": "AVCtENPtFcu0"
   },
   "outputs": [
    {
     "data": {
      "text/html": [
       "<div>\n",
       "<style scoped>\n",
       "    .dataframe tbody tr th:only-of-type {\n",
       "        vertical-align: middle;\n",
       "    }\n",
       "\n",
       "    .dataframe tbody tr th {\n",
       "        vertical-align: top;\n",
       "    }\n",
       "\n",
       "    .dataframe thead th {\n",
       "        text-align: right;\n",
       "    }\n",
       "</style>\n",
       "<table border=\"1\" class=\"dataframe\">\n",
       "  <thead>\n",
       "    <tr style=\"text-align: right;\">\n",
       "      <th></th>\n",
       "      <th>prime_genre</th>\n",
       "      <th>user_rating</th>\n",
       "      <th>rating_count_tot</th>\n",
       "      <th>price</th>\n",
       "    </tr>\n",
       "  </thead>\n",
       "  <tbody>\n",
       "    <tr>\n",
       "      <th>0</th>\n",
       "      <td>Games</td>\n",
       "      <td>4.0</td>\n",
       "      <td>21292</td>\n",
       "      <td>3.99</td>\n",
       "    </tr>\n",
       "    <tr>\n",
       "      <th>1</th>\n",
       "      <td>Productivity</td>\n",
       "      <td>4.0</td>\n",
       "      <td>161065</td>\n",
       "      <td>0.00</td>\n",
       "    </tr>\n",
       "    <tr>\n",
       "      <th>2</th>\n",
       "      <td>Weather</td>\n",
       "      <td>3.5</td>\n",
       "      <td>188583</td>\n",
       "      <td>0.00</td>\n",
       "    </tr>\n",
       "  </tbody>\n",
       "</table>\n",
       "</div>"
      ],
      "text/plain": [
       "    prime_genre  user_rating  rating_count_tot  price\n",
       "0         Games          4.0             21292   3.99\n",
       "1  Productivity          4.0            161065   0.00\n",
       "2       Weather          3.5            188583   0.00"
      ]
     },
     "execution_count": 45,
     "metadata": {},
     "output_type": "execute_result"
    }
   ],
   "source": [
    "# Do the same with our Apple object, selecting just the variables ['prime_genre', 'user_rating', 'rating_count_tot', 'price']\n",
    "Apple = Apple[['prime_genre', 'user_rating', 'rating_count_tot', 'price']]\n",
    "\n",
    "# Let's check the first three entries\n",
    "Apple.head(3)"
   ]
  },
  {
   "cell_type": "markdown",
   "metadata": {
    "colab_type": "text",
    "id": "wwK2wH-rFcu2"
   },
   "source": [
    "## Stage 2 -  Cleaning, transforming and visualizing"
   ]
  },
  {
   "cell_type": "markdown",
   "metadata": {
    "colab_type": "text",
    "id": "NsoE5x0JFcu3"
   },
   "source": [
    "### 2a. Check the data types for both Apple and Google, and fix them\n",
    "\n",
    "Types are crucial for data science in Python. Let's determine whether the variables we selected in the previous section belong to the types they should do, or whether there are any errors here. "
   ]
  },
  {
   "cell_type": "code",
   "execution_count": 46,
   "metadata": {
    "colab": {},
    "colab_type": "code",
    "id": "ymw10SaWFcu4"
   },
   "outputs": [
    {
     "data": {
      "text/plain": [
       "prime_genre          object\n",
       "user_rating         float64\n",
       "rating_count_tot      int64\n",
       "price               float64\n",
       "dtype: object"
      ]
     },
     "execution_count": 46,
     "metadata": {},
     "output_type": "execute_result"
    }
   ],
   "source": [
    "# Using the dtypes feature of pandas DataFrame objects, check out the data types within our Apple dataframe.\n",
    "# Are they what you expect?\n",
    "Apple.dtypes"
   ]
  },
  {
   "cell_type": "markdown",
   "metadata": {
    "colab_type": "text",
    "id": "VAiM6jIxFcu6"
   },
   "source": [
    "This is looking healthy. But what about our Google data frame?"
   ]
  },
  {
   "cell_type": "code",
   "execution_count": 47,
   "metadata": {
    "colab": {},
    "colab_type": "code",
    "id": "kmP8MhqyFcu7"
   },
   "outputs": [
    {
     "data": {
      "text/plain": [
       "Category     object\n",
       "Rating      float64\n",
       "Reviews      object\n",
       "Price        object\n",
       "dtype: object"
      ]
     },
     "execution_count": 47,
     "metadata": {},
     "output_type": "execute_result"
    }
   ],
   "source": [
    "# Using the same dtypes feature, check out the data types of our Google dataframe. \n",
    "Google.dtypes"
   ]
  },
  {
   "cell_type": "markdown",
   "metadata": {
    "colab_type": "text",
    "id": "O-dxAy0WFcu9"
   },
   "source": [
    "Weird. The data type for the column 'Price' is 'object', not a numeric data type like a float or an integer. Let's investigate the unique values of this column. "
   ]
  },
  {
   "cell_type": "code",
   "execution_count": 48,
   "metadata": {
    "colab": {},
    "colab_type": "code",
    "id": "Hu08K9y7Fcu9"
   },
   "outputs": [
    {
     "data": {
      "text/plain": [
       "array(['0', '$4.99', '$3.99', '$6.99', '$1.49', '$2.99', '$7.99', '$5.99',\n",
       "       '$3.49', '$1.99', '$9.99', '$7.49', '$0.99', '$9.00', '$5.49',\n",
       "       '$10.00', '$24.99', '$11.99', '$79.99', '$16.99', '$14.99',\n",
       "       '$1.00', '$29.99', '$12.99', '$2.49', '$10.99', '$1.50', '$19.99',\n",
       "       '$15.99', '$33.99', '$74.99', '$39.99', '$3.95', '$4.49', '$1.70',\n",
       "       '$8.99', '$2.00', '$3.88', '$25.99', '$399.99', '$17.99',\n",
       "       '$400.00', '$3.02', '$1.76', '$4.84', '$4.77', '$1.61', '$2.50',\n",
       "       '$1.59', '$6.49', '$1.29', '$5.00', '$13.99', '$299.99', '$379.99',\n",
       "       '$37.99', '$18.99', '$389.99', '$19.90', '$8.49', '$1.75',\n",
       "       '$14.00', '$4.85', '$46.99', '$109.99', '$154.99', '$3.08',\n",
       "       '$2.59', '$4.80', '$1.96', '$19.40', '$3.90', '$4.59', '$15.46',\n",
       "       '$3.04', '$4.29', '$2.60', '$3.28', '$4.60', '$28.99', '$2.95',\n",
       "       '$2.90', '$1.97', '$200.00', '$89.99', '$2.56', '$30.99', '$3.61',\n",
       "       '$394.99', '$1.26', 'Everyone', '$1.20', '$1.04'], dtype=object)"
      ]
     },
     "execution_count": 48,
     "metadata": {},
     "output_type": "execute_result"
    }
   ],
   "source": [
    "# Use the unique() pandas method on the Price column to check its unique values. \n",
    "pd.unique(Google[\"Price\"])"
   ]
  },
  {
   "cell_type": "markdown",
   "metadata": {
    "colab_type": "text",
    "id": "w_7nkogFFcu_"
   },
   "source": [
    "Aha! Fascinating. There are actually two issues here. \n",
    "\n",
    "- Firstly, there's a price called `Everyone`. That is a massive mistake! \n",
    "- Secondly, there are dollar symbols everywhere! \n",
    "\n",
    "\n",
    "Let's address the first issue first. Let's check the datapoints that have the price value `Everyone`"
   ]
  },
  {
   "cell_type": "code",
   "execution_count": 49,
   "metadata": {
    "colab": {},
    "colab_type": "code",
    "id": "E75WWmhdFcvA"
   },
   "outputs": [
    {
     "data": {
      "text/html": [
       "<div>\n",
       "<style scoped>\n",
       "    .dataframe tbody tr th:only-of-type {\n",
       "        vertical-align: middle;\n",
       "    }\n",
       "\n",
       "    .dataframe tbody tr th {\n",
       "        vertical-align: top;\n",
       "    }\n",
       "\n",
       "    .dataframe thead th {\n",
       "        text-align: right;\n",
       "    }\n",
       "</style>\n",
       "<table border=\"1\" class=\"dataframe\">\n",
       "  <thead>\n",
       "    <tr style=\"text-align: right;\">\n",
       "      <th></th>\n",
       "      <th>Category</th>\n",
       "      <th>Rating</th>\n",
       "      <th>Reviews</th>\n",
       "      <th>Price</th>\n",
       "    </tr>\n",
       "  </thead>\n",
       "  <tbody>\n",
       "    <tr>\n",
       "      <th>10472</th>\n",
       "      <td>1.9</td>\n",
       "      <td>19.0</td>\n",
       "      <td>3.0M</td>\n",
       "      <td>Everyone</td>\n",
       "    </tr>\n",
       "  </tbody>\n",
       "</table>\n",
       "</div>"
      ],
      "text/plain": [
       "      Category  Rating Reviews     Price\n",
       "10472      1.9    19.0    3.0M  Everyone"
      ]
     },
     "execution_count": 49,
     "metadata": {},
     "output_type": "execute_result"
    }
   ],
   "source": [
    "# Let's check which data points have the value 'Everyone' for the 'Price' column by subsetting our Google dataframe.\n",
    "\n",
    "# Subset the Google dataframe on the price column. \n",
    "# To be sure: you want to pick out just those rows whose value for the 'Price' column is just 'Everyone'. \n",
    "Google[Google['Price'] == 'Everyone']"
   ]
  },
  {
   "cell_type": "markdown",
   "metadata": {
    "colab_type": "text",
    "id": "ezfLshdRFcvC"
   },
   "source": [
    "Thankfully, it's just one row. We've gotta get rid of it. "
   ]
  },
  {
   "cell_type": "code",
   "execution_count": 50,
   "metadata": {
    "colab": {},
    "colab_type": "code",
    "id": "DBmjUQUkFcvD"
   },
   "outputs": [
    {
     "data": {
      "text/plain": [
       "array(['0', '$4.99', '$3.99', '$6.99', '$1.49', '$2.99', '$7.99', '$5.99',\n",
       "       '$3.49', '$1.99', '$9.99', '$7.49', '$0.99', '$9.00', '$5.49',\n",
       "       '$10.00', '$24.99', '$11.99', '$79.99', '$16.99', '$14.99',\n",
       "       '$1.00', '$29.99', '$12.99', '$2.49', '$10.99', '$1.50', '$19.99',\n",
       "       '$15.99', '$33.99', '$74.99', '$39.99', '$3.95', '$4.49', '$1.70',\n",
       "       '$8.99', '$2.00', '$3.88', '$25.99', '$399.99', '$17.99',\n",
       "       '$400.00', '$3.02', '$1.76', '$4.84', '$4.77', '$1.61', '$2.50',\n",
       "       '$1.59', '$6.49', '$1.29', '$5.00', '$13.99', '$299.99', '$379.99',\n",
       "       '$37.99', '$18.99', '$389.99', '$19.90', '$8.49', '$1.75',\n",
       "       '$14.00', '$4.85', '$46.99', '$109.99', '$154.99', '$3.08',\n",
       "       '$2.59', '$4.80', '$1.96', '$19.40', '$3.90', '$4.59', '$15.46',\n",
       "       '$3.04', '$4.29', '$2.60', '$3.28', '$4.60', '$28.99', '$2.95',\n",
       "       '$2.90', '$1.97', '$200.00', '$89.99', '$2.56', '$30.99', '$3.61',\n",
       "       '$394.99', '$1.26', '$1.20', '$1.04'], dtype=object)"
      ]
     },
     "execution_count": 50,
     "metadata": {},
     "output_type": "execute_result"
    }
   ],
   "source": [
    "# Let's eliminate that row. \n",
    "\n",
    "# Subset our Google dataframe to pick out just those rows whose value for the 'Price' column is NOT 'Everyone'. \n",
    "# Reassign that subset to the Google variable. \n",
    "# You can do this in two lines or one. Your choice! \n",
    "Google = Google[Google['Price'] != \"Everyone\"]\n",
    "# Check again the unique values of Google\n",
    "pd.unique(Google['Price'])"
   ]
  },
  {
   "cell_type": "markdown",
   "metadata": {
    "colab_type": "text",
    "id": "T43TB4qFFcvF"
   },
   "source": [
    "Our second problem remains: I'm seeing dollar symbols when I close my eyes! (And not in a good way). \n",
    "\n",
    "This is a problem because Python actually considers these values strings. So we can't do mathematical and statistical operations on them until we've made them into numbers. "
   ]
  },
  {
   "cell_type": "code",
   "execution_count": 51,
   "metadata": {
    "colab": {},
    "colab_type": "code",
    "id": "W87gVS9BFcvG"
   },
   "outputs": [],
   "source": [
    "# Let's create a variable called nosymb.\n",
    "# This variable will take the Price column of Google and apply the str.replace() method. \n",
    "nosym = Google['Price'].str.replace(\"$\", '')\n",
    "# Now we need to do two things:\n",
    "# i. Make the values in the nosymb variable numeric using the to_numeric() pandas method.\n",
    "# ii. Assign this new set of numeric, dollar-sign-less values to Google['Price']. \n",
    "# You can do this in one line if you wish.\n",
    "Google['Price'] =  pd.to_numeric(nosym)"
   ]
  },
  {
   "cell_type": "markdown",
   "metadata": {
    "colab_type": "text",
    "id": "LxpJQ9yyFcvI"
   },
   "source": [
    "Now let's check the data types for our Google dataframe again, to verify that the 'Price' column really is numeric now."
   ]
  },
  {
   "cell_type": "code",
   "execution_count": 52,
   "metadata": {
    "colab": {},
    "colab_type": "code",
    "id": "Fn5Gt-QbFcvI"
   },
   "outputs": [
    {
     "data": {
      "text/plain": [
       "Category     object\n",
       "Rating      float64\n",
       "Reviews      object\n",
       "Price       float64\n",
       "dtype: object"
      ]
     },
     "execution_count": 52,
     "metadata": {},
     "output_type": "execute_result"
    }
   ],
   "source": [
    "# Use the function dtypes. \n",
    "Google.dtypes"
   ]
  },
  {
   "cell_type": "markdown",
   "metadata": {
    "colab_type": "text",
    "id": "FgfuiVo0FcvK"
   },
   "source": [
    "Notice that the column `Reviews` is still an object column. We actually need this column to be a numeric column, too. "
   ]
  },
  {
   "cell_type": "code",
   "execution_count": 53,
   "metadata": {
    "colab": {},
    "colab_type": "code",
    "id": "MiVEWsWBFcvL"
   },
   "outputs": [],
   "source": [
    "# Convert the 'Reviews' column to a numeric data type. \n",
    "Google['Reviews'] = pd.to_numeric(Google.Reviews)"
   ]
  },
  {
   "cell_type": "code",
   "execution_count": 54,
   "metadata": {
    "colab": {},
    "colab_type": "code",
    "id": "wWJdXXTTFcvN"
   },
   "outputs": [
    {
     "data": {
      "text/plain": [
       "Category     object\n",
       "Rating      float64\n",
       "Reviews       int64\n",
       "Price       float64\n",
       "dtype: object"
      ]
     },
     "execution_count": 54,
     "metadata": {},
     "output_type": "execute_result"
    }
   ],
   "source": [
    "# Let's check the data types of Google again\n",
    "Google.dtypes"
   ]
  },
  {
   "cell_type": "markdown",
   "metadata": {
    "colab_type": "text",
    "id": "OiLm2GEKFcvP"
   },
   "source": [
    "### 2b. Add a `platform` column to both the `Apple` and the `Google` dataframes\n",
    "Let's add a new column to both dataframe objects called `platform`: all of its values in the Google dataframe will be just 'google', and all of its values for the Apple dataframe will be just 'apple'. \n",
    "\n",
    "The reason we're making this column is so that we can ultimately join our Apple and Google data together, and actually test out some hypotheses to solve the problem in our brief. "
   ]
  },
  {
   "cell_type": "code",
   "execution_count": 55,
   "metadata": {
    "colab": {},
    "colab_type": "code",
    "id": "mF-sOcx2FcvQ"
   },
   "outputs": [],
   "source": [
    "# Create a column called 'platform' in both the Apple and Google dataframes. \n",
    "# Add the value 'apple' and the value 'google' as appropriate. \n",
    "Apple['platform'] = 'apple'\n",
    "Google['platform'] = 'google'"
   ]
  },
  {
   "cell_type": "markdown",
   "metadata": {
    "colab_type": "text",
    "id": "EJcry17IFcvS"
   },
   "source": [
    "### 2c. Changing the column names to prepare for our join of the two datasets \n",
    "Since the easiest way to join two datasets is if they have both:\n",
    "- the same number of columns\n",
    "- the same column names\n",
    "we need to rename the columns of `Apple` so that they're the same as the ones of `Google`, or vice versa.\n",
    "\n",
    "In this case, we're going to change the `Apple` columns names to the names of the `Google` columns. \n",
    "\n",
    "This is an important step to unify the two datasets!"
   ]
  },
  {
   "cell_type": "code",
   "execution_count": 56,
   "metadata": {
    "colab": {},
    "colab_type": "code",
    "id": "bdt9XH2KFcvT"
   },
   "outputs": [],
   "source": [
    "# Create a variable called old_names where you'll store the column names of the Apple dataframe. \n",
    "# Use the feature .columns.\n",
    "old_names = Apple.columns\n",
    "\n",
    "# Create a variable called new_names where you'll store the column names of the Google dataframe. \n",
    "new_names = Google.columns\n",
    "\n",
    "# Use the rename() DataFrame method to change the columns names. \n",
    "Apple = Apple.rename(columns = dict(zip(old_names, new_names)))"
   ]
  },
  {
   "cell_type": "markdown",
   "metadata": {
    "colab_type": "text",
    "id": "qewPiLrRFcvX"
   },
   "source": [
    "### 2d. Join the two datasets \n",
    "Let's combine the two datasets into a single data frame called `df`."
   ]
  },
  {
   "cell_type": "code",
   "execution_count": 58,
   "metadata": {
    "colab": {},
    "colab_type": "code",
    "id": "jq6fGfvyFcvY"
   },
   "outputs": [
    {
     "data": {
      "text/html": [
       "<div>\n",
       "<style scoped>\n",
       "    .dataframe tbody tr th:only-of-type {\n",
       "        vertical-align: middle;\n",
       "    }\n",
       "\n",
       "    .dataframe tbody tr th {\n",
       "        vertical-align: top;\n",
       "    }\n",
       "\n",
       "    .dataframe thead th {\n",
       "        text-align: right;\n",
       "    }\n",
       "</style>\n",
       "<table border=\"1\" class=\"dataframe\">\n",
       "  <thead>\n",
       "    <tr style=\"text-align: right;\">\n",
       "      <th></th>\n",
       "      <th>Category</th>\n",
       "      <th>Rating</th>\n",
       "      <th>Reviews</th>\n",
       "      <th>Price</th>\n",
       "      <th>platform</th>\n",
       "    </tr>\n",
       "  </thead>\n",
       "  <tbody>\n",
       "    <tr>\n",
       "      <th>5403</th>\n",
       "      <td>MEDICAL</td>\n",
       "      <td>4.9</td>\n",
       "      <td>25</td>\n",
       "      <td>0.00</td>\n",
       "      <td>google</td>\n",
       "    </tr>\n",
       "    <tr>\n",
       "      <th>1411</th>\n",
       "      <td>Social Networking</td>\n",
       "      <td>5.0</td>\n",
       "      <td>90414</td>\n",
       "      <td>0.00</td>\n",
       "      <td>apple</td>\n",
       "    </tr>\n",
       "    <tr>\n",
       "      <th>2251</th>\n",
       "      <td>MEDICAL</td>\n",
       "      <td>4.5</td>\n",
       "      <td>2921</td>\n",
       "      <td>24.99</td>\n",
       "      <td>google</td>\n",
       "    </tr>\n",
       "    <tr>\n",
       "      <th>5574</th>\n",
       "      <td>Games</td>\n",
       "      <td>4.0</td>\n",
       "      <td>272</td>\n",
       "      <td>0.99</td>\n",
       "      <td>apple</td>\n",
       "    </tr>\n",
       "    <tr>\n",
       "      <th>3536</th>\n",
       "      <td>PRODUCTIVITY</td>\n",
       "      <td>4.4</td>\n",
       "      <td>57033</td>\n",
       "      <td>0.00</td>\n",
       "      <td>google</td>\n",
       "    </tr>\n",
       "    <tr>\n",
       "      <th>7049</th>\n",
       "      <td>Games</td>\n",
       "      <td>4.5</td>\n",
       "      <td>14</td>\n",
       "      <td>0.00</td>\n",
       "      <td>apple</td>\n",
       "    </tr>\n",
       "    <tr>\n",
       "      <th>6949</th>\n",
       "      <td>FINANCE</td>\n",
       "      <td>4.5</td>\n",
       "      <td>101</td>\n",
       "      <td>0.00</td>\n",
       "      <td>google</td>\n",
       "    </tr>\n",
       "    <tr>\n",
       "      <th>2557</th>\n",
       "      <td>SOCIAL</td>\n",
       "      <td>4.3</td>\n",
       "      <td>6086</td>\n",
       "      <td>0.00</td>\n",
       "      <td>google</td>\n",
       "    </tr>\n",
       "    <tr>\n",
       "      <th>7086</th>\n",
       "      <td>FAMILY</td>\n",
       "      <td>4.2</td>\n",
       "      <td>7000</td>\n",
       "      <td>0.00</td>\n",
       "      <td>google</td>\n",
       "    </tr>\n",
       "    <tr>\n",
       "      <th>6059</th>\n",
       "      <td>FAMILY</td>\n",
       "      <td>3.8</td>\n",
       "      <td>66033</td>\n",
       "      <td>0.00</td>\n",
       "      <td>google</td>\n",
       "    </tr>\n",
       "    <tr>\n",
       "      <th>4111</th>\n",
       "      <td>FAMILY</td>\n",
       "      <td>4.3</td>\n",
       "      <td>3213548</td>\n",
       "      <td>0.00</td>\n",
       "      <td>google</td>\n",
       "    </tr>\n",
       "    <tr>\n",
       "      <th>4737</th>\n",
       "      <td>FOOD_AND_DRINK</td>\n",
       "      <td>4.4</td>\n",
       "      <td>205</td>\n",
       "      <td>0.00</td>\n",
       "      <td>google</td>\n",
       "    </tr>\n",
       "  </tbody>\n",
       "</table>\n",
       "</div>"
      ],
      "text/plain": [
       "               Category  Rating  Reviews  Price platform\n",
       "5403            MEDICAL     4.9       25   0.00   google\n",
       "1411  Social Networking     5.0    90414   0.00    apple\n",
       "2251            MEDICAL     4.5     2921  24.99   google\n",
       "5574              Games     4.0      272   0.99    apple\n",
       "3536       PRODUCTIVITY     4.4    57033   0.00   google\n",
       "7049              Games     4.5       14   0.00    apple\n",
       "6949            FINANCE     4.5      101   0.00   google\n",
       "2557             SOCIAL     4.3     6086   0.00   google\n",
       "7086             FAMILY     4.2     7000   0.00   google\n",
       "6059             FAMILY     3.8    66033   0.00   google\n",
       "4111             FAMILY     4.3  3213548   0.00   google\n",
       "4737     FOOD_AND_DRINK     4.4      205   0.00   google"
      ]
     },
     "execution_count": 58,
     "metadata": {},
     "output_type": "execute_result"
    }
   ],
   "source": [
    "# Let's use the append() method to append Apple to Google. \n",
    "df = Google.append(Apple)\n",
    "\n",
    "# Using the sample() method with the number 12 passed to it, check 12 random points of your dataset.\n",
    "df.sample(12)"
   ]
  },
  {
   "cell_type": "markdown",
   "metadata": {
    "colab_type": "text",
    "id": "FjqsHugWFcvb"
   },
   "source": [
    "### 2e. Eliminate the NaN values\n",
    "\n",
    "As you can see there are some `NaN` values. We want to eliminate all these `NaN` values from the table."
   ]
  },
  {
   "cell_type": "code",
   "execution_count": 60,
   "metadata": {},
   "outputs": [
    {
     "data": {
      "text/plain": [
       "(18037, 5)"
      ]
     },
     "execution_count": 60,
     "metadata": {},
     "output_type": "execute_result"
    }
   ],
   "source": [
    "# Lets check first the dimesions of df before droping `NaN` values. Use the .shape feature. \n",
    "df.shape"
   ]
  },
  {
   "cell_type": "code",
   "execution_count": 63,
   "metadata": {
    "colab": {},
    "colab_type": "code",
    "id": "Gp2q6GLyFcvb"
   },
   "outputs": [
    {
     "data": {
      "text/plain": [
       "(16563, 5)"
      ]
     },
     "execution_count": 63,
     "metadata": {},
     "output_type": "execute_result"
    }
   ],
   "source": [
    "# Use the dropna() method to eliminate all the NaN values, and overwrite the same dataframe with the result. \n",
    "df = df.dropna()\n",
    "# Check the new dimesions of our dataframe. \n",
    "df.shape"
   ]
  },
  {
   "cell_type": "markdown",
   "metadata": {
    "colab_type": "text",
    "id": "qtfeQKtAFcvd"
   },
   "source": [
    "### 2f. Filter the data so that we only see whose apps that have been reviewed at least once\n",
    "\n",
    "Apps that haven't been reviewed yet can't help us solve our brief. \n",
    "\n",
    "So let's check to see if any apps have no reviews at all. "
   ]
  },
  {
   "cell_type": "code",
   "execution_count": 66,
   "metadata": {
    "colab": {},
    "colab_type": "code",
    "id": "Ge9OKXLNFcvd"
   },
   "outputs": [
    {
     "data": {
      "text/plain": [
       "Category    929\n",
       "Rating      929\n",
       "Reviews     929\n",
       "Price       929\n",
       "platform    929\n",
       "dtype: int64"
      ]
     },
     "execution_count": 66,
     "metadata": {},
     "output_type": "execute_result"
    }
   ],
   "source": [
    "# Subset your df to pick out just those rows whose value for 'Reviews' is equal to 0. \n",
    "# Do a count() on the result. \n",
    "df[df['Reviews']==0].count()"
   ]
  },
  {
   "cell_type": "markdown",
   "metadata": {
    "colab_type": "text",
    "id": "05f7H0kAFcvg"
   },
   "source": [
    "929 apps do not have reviews, we need to eliminate these points!"
   ]
  },
  {
   "cell_type": "code",
   "execution_count": 67,
   "metadata": {
    "colab": {},
    "colab_type": "code",
    "id": "pD8vmPjkFcvg"
   },
   "outputs": [],
   "source": [
    "# Eliminate the points that have 0 reviews.\n",
    "df = df[df['Reviews']>0]"
   ]
  },
  {
   "cell_type": "markdown",
   "metadata": {
    "colab_type": "text",
    "id": "ApnKES_bFcvi"
   },
   "source": [
    "### 2g. Summarize the data visually and analytically (by the column `platform`)"
   ]
  },
  {
   "cell_type": "markdown",
   "metadata": {
    "colab_type": "text",
    "id": "2smt9UocFcvj"
   },
   "source": [
    "What we need to solve our brief is a summary of the `Rating` column, but separated by the different platforms."
   ]
  },
  {
   "cell_type": "code",
   "execution_count": 72,
   "metadata": {
    "colab": {},
    "colab_type": "code",
    "id": "Vqckt347Fcvj"
   },
   "outputs": [
    {
     "data": {
      "text/html": [
       "<div>\n",
       "<style scoped>\n",
       "    .dataframe tbody tr th:only-of-type {\n",
       "        vertical-align: middle;\n",
       "    }\n",
       "\n",
       "    .dataframe tbody tr th {\n",
       "        vertical-align: top;\n",
       "    }\n",
       "\n",
       "    .dataframe thead th {\n",
       "        text-align: right;\n",
       "    }\n",
       "</style>\n",
       "<table border=\"1\" class=\"dataframe\">\n",
       "  <thead>\n",
       "    <tr style=\"text-align: right;\">\n",
       "      <th></th>\n",
       "      <th>count</th>\n",
       "      <th>mean</th>\n",
       "      <th>std</th>\n",
       "      <th>min</th>\n",
       "      <th>25%</th>\n",
       "      <th>50%</th>\n",
       "      <th>75%</th>\n",
       "      <th>max</th>\n",
       "    </tr>\n",
       "    <tr>\n",
       "      <th>platform</th>\n",
       "      <th></th>\n",
       "      <th></th>\n",
       "      <th></th>\n",
       "      <th></th>\n",
       "      <th></th>\n",
       "      <th></th>\n",
       "      <th></th>\n",
       "      <th></th>\n",
       "    </tr>\n",
       "  </thead>\n",
       "  <tbody>\n",
       "    <tr>\n",
       "      <th>apple</th>\n",
       "      <td>6268.0</td>\n",
       "      <td>4.049697</td>\n",
       "      <td>0.726943</td>\n",
       "      <td>1.0</td>\n",
       "      <td>4.0</td>\n",
       "      <td>4.5</td>\n",
       "      <td>4.5</td>\n",
       "      <td>5.0</td>\n",
       "    </tr>\n",
       "    <tr>\n",
       "      <th>google</th>\n",
       "      <td>9366.0</td>\n",
       "      <td>4.191757</td>\n",
       "      <td>0.515219</td>\n",
       "      <td>1.0</td>\n",
       "      <td>4.0</td>\n",
       "      <td>4.3</td>\n",
       "      <td>4.5</td>\n",
       "      <td>5.0</td>\n",
       "    </tr>\n",
       "  </tbody>\n",
       "</table>\n",
       "</div>"
      ],
      "text/plain": [
       "           count      mean       std  min  25%  50%  75%  max\n",
       "platform                                                     \n",
       "apple     6268.0  4.049697  0.726943  1.0  4.0  4.5  4.5  5.0\n",
       "google    9366.0  4.191757  0.515219  1.0  4.0  4.3  4.5  5.0"
      ]
     },
     "execution_count": 72,
     "metadata": {},
     "output_type": "execute_result"
    }
   ],
   "source": [
    "# To summarize analytically, let's use the groupby() method on our df.\n",
    "df.groupby('platform')['Rating'].describe()"
   ]
  },
  {
   "cell_type": "markdown",
   "metadata": {
    "colab_type": "text",
    "id": "8f9TqMtKFcvl"
   },
   "source": [
    "Interesting! Our means of 4.049697 and 4.191757 don't **seem** all that different! Perhaps we've solved our brief already: there's no significant difference between Google Play app reviews and Apple Store app reviews. We have an ***observed difference*** here: which is simply (4.191757 - 4.049697) = 0.14206. This is just the actual difference that we observed between the mean rating for apps from Google Play, and the mean rating for apps from the Apple Store. Let's look at how we're going to use this observed difference to solve our problem using a statistical test. \n",
    "\n",
    "**Outline of our method:**\n",
    "1. We'll assume that platform (i.e, whether the app was Google or Apple) really doesn’t impact on ratings. \n",
    "\n",
    "\n",
    "2. Given this assumption, we should actually be able to get a difference in mean rating for Apple apps and mean rating for Google apps that's pretty similar to the one we actually got (0.14206) just by: \n",
    "a. shuffling the ratings column, \n",
    "b. keeping the platform column the same,\n",
    "c. calculating the difference between the mean rating for Apple and the mean rating for Google. \n",
    "\n",
    "\n",
    "3. We can make the shuffle more useful by doing it many times, each time calculating the mean rating for Apple apps and the mean rating for Google apps, and the difference between these means. \n",
    "\n",
    "\n",
    "4. We can then take the mean of all these differences, and this will be called our permutation difference. This permutation difference will be great indicator of what the difference would be if our initial assumption were true and platform really doesn’t impact on ratings. \n",
    "\n",
    "\n",
    "5. Now we do a comparison. If the observed difference looks just like the permutation difference, then we stick with the claim that actually, platform doesn’t impact on ratings. If instead, however, the permutation difference differs significantly from the observed difference, we'll conclude: something's going on; the platform does in fact impact on ratings. \n",
    "\n",
    "\n",
    "6. As for what the definition of *significantly* is, we'll get to that. But there’s a brief summary of what we're going to do. Exciting!\n",
    "\n",
    "If you want to look more deeply at the statistics behind this project, check out [this resource](https://www.springboard.com/archeio/download/4ea4d453b0b84014bcef287c50f47f00/)."
   ]
  },
  {
   "cell_type": "markdown",
   "metadata": {
    "colab_type": "text",
    "id": "d6EhTxArFcvm"
   },
   "source": [
    "Let's also get a **visual summary** of the `Rating` column, separated by the different platforms. \n",
    "\n",
    "A good tool to use here is the boxplot!"
   ]
  },
  {
   "cell_type": "code",
   "execution_count": 78,
   "metadata": {
    "colab": {},
    "colab_type": "code",
    "id": "hFKjrlWgFcvm"
   },
   "outputs": [
    {
     "data": {
      "text/plain": [
       "<AxesSubplot:title={'center':'Rating'}, xlabel='[platform]'>"
      ]
     },
     "execution_count": 78,
     "metadata": {},
     "output_type": "execute_result"
    },
    {
     "data": {
      "image/png": "[encoded data removed]",
      "text/plain": [
       "<Figure size 432x288 with 1 Axes>"
      ]
     },
     "metadata": {
      "needs_background": "light"
     },
     "output_type": "display_data"
    }
   ],
   "source": [
    "# Call the boxplot() method on our df.\n",
    "df[['Rating', 'platform']].boxplot( by = 'platform')"
   ]
  },
  {
   "cell_type": "markdown",
   "metadata": {
    "colab_type": "text",
    "id": "FqTlAjnmFcvo"
   },
   "source": [
    "Here we see the same information as in the analytical summary, but with a boxplot. Can you see how the boxplot is working here? If you need to revise your boxplots, check out this this [link](https://www.kaggle.com/ramamet4/app-store-apple-data-set-10k-apps). "
   ]
  },
  {
   "cell_type": "markdown",
   "metadata": {
    "colab_type": "text",
    "id": "O8L-s1fgFcvp"
   },
   "source": [
    "## Stage 3 - Modelling"
   ]
  },
  {
   "cell_type": "markdown",
   "metadata": {
    "colab_type": "text",
    "id": "5fbRq2MZFcvq"
   },
   "source": [
    "### 3a. Hypothesis formulation\n",
    "\n",
    "Our **Null hypothesis** is just:\n",
    "\n",
    "**H<sub>null</sub>**: the observed difference in the mean rating of Apple Store and Google Play apps is due to chance (and thus not due to the platform).\n",
    "\n",
    "The more interesting hypothesis is called the **Alternate hypothesis**:\n",
    "\n",
    "**H<sub>alternative</sub>**: the observed difference in the average ratings of apple and google users is not due to chance (and is actually due to platform)\n",
    "\n",
    "We're also going to pick a **significance level** of 0.05. "
   ]
  },
  {
   "cell_type": "markdown",
   "metadata": {
    "colab_type": "text",
    "id": "TjBqkabaFcvq"
   },
   "source": [
    "### 3b. Getting the distribution of the data\n",
    "Now that the hypotheses and significance level are defined, we can select a statistical test to determine which hypothesis to accept. \n",
    "\n",
    "There are many different statistical tests, all with different assumptions. You'll generate an excellent judgement about when to use which statistical tests over the Data Science Career Track course. But in general, one of the most important things to determine is the **distribution of the data**.   "
   ]
  },
  {
   "cell_type": "code",
   "execution_count": 86,
   "metadata": {
    "colab": {},
    "colab_type": "code",
    "id": "bFwVhkeWFcvr"
   },
   "outputs": [],
   "source": [
    "# Create a subset of the column 'Rating' by the different platforms.\n",
    "# Call the subsets 'apple' and 'google' \n",
    "apple = df[df['platform']=='apple']['Rating']\n",
    "google = df[df['platform']=='google'][\"Rating\"]"
   ]
  },
  {
   "cell_type": "code",
   "execution_count": 87,
   "metadata": {
    "colab": {},
    "colab_type": "code",
    "id": "oPPFpwPvFcvu"
   },
   "outputs": [],
   "source": [
    "# Using the stats.normaltest() method, get an indication of whether the apple data are normally distributed\n",
    "# Save the result in a variable called apple_normal, and print it out\n",
    "apple_normal = stats.normaltest(apple)"
   ]
  },
  {
   "cell_type": "code",
   "execution_count": 88,
   "metadata": {
    "colab": {},
    "colab_type": "code",
    "id": "rCdh8a8KFcvw"
   },
   "outputs": [],
   "source": [
    "# Do the same with the google data. \n",
    "google_normal = stats.normaltest(google)"
   ]
  },
  {
   "cell_type": "markdown",
   "metadata": {
    "colab_type": "text",
    "id": "9gDqu21yFcv0"
   },
   "source": [
    "Since the null hypothesis of the normaltest() is that the data are normally distributed, the lower the p-value in the result of this test, the more likely the data are to be non-normal. \n",
    "\n",
    "Since the p-values is 0 for both tests, regardless of what we pick for the significance level, our conclusion is that the data are not normally distributed. \n",
    "\n",
    "We can actually also check out the distribution of the data visually with a histogram. A normal distribution has the following visual characteristics:\n",
    "    - symmetric\n",
    "    - unimodal (one hump)\n",
    "As well as a roughly identical mean, median and mode. "
   ]
  },
  {
   "cell_type": "code",
   "execution_count": 89,
   "metadata": {
    "colab": {},
    "colab_type": "code",
    "id": "P9tT9RjNFcv1"
   },
   "outputs": [
    {
     "data": {
      "text/plain": [
       "<AxesSubplot:>"
      ]
     },
     "execution_count": 89,
     "metadata": {},
     "output_type": "execute_result"
    },
    {
     "data": {
      "image/png": "[encoded data removed]",
      "text/plain": [
       "<Figure size 432x288 with 1 Axes>"
      ]
     },
     "metadata": {
      "needs_background": "light"
     },
     "output_type": "display_data"
    }
   ],
   "source": [
    "# Create a histogram of the apple reviews distribution\n",
    "apple.hist()"
   ]
  },
  {
   "cell_type": "code",
   "execution_count": 91,
   "metadata": {
    "colab": {},
    "colab_type": "code",
    "id": "8dE1uC5iFcv2"
   },
   "outputs": [
    {
     "data": {
      "text/plain": [
       "<AxesSubplot:>"
      ]
     },
     "execution_count": 91,
     "metadata": {},
     "output_type": "execute_result"
    },
    {
     "data": {
      "image/png": "[encoded data removed]",
      "text/plain": [
       "<Figure size 432x288 with 1 Axes>"
      ]
     },
     "metadata": {
      "needs_background": "light"
     },
     "output_type": "display_data"
    }
   ],
   "source": [
    "# Create a histogram of the google data\n",
    "google.hist()"
   ]
  },
  {
   "cell_type": "markdown",
   "metadata": {
    "colab_type": "text",
    "id": "QhZV89FzFcv5"
   },
   "source": [
    "### 3c. Permutation test\n",
    "Since the data aren't normally distributed, we're using a *non-parametric* test here. This is simply a label for statistical tests used when the data aren't normally distributed. These tests are extraordinarily powerful due to how few assumptions we need to make.  \n",
    "\n",
    "Check out more about permutations [here.](http://rasbt.github.io/mlxtend/user_guide/evaluate/permutation_test/)"
   ]
  },
  {
   "cell_type": "code",
   "execution_count": 93,
   "metadata": {
    "colab": {},
    "colab_type": "code",
    "id": "bxNhQgpqFcv6"
   },
   "outputs": [
    {
     "data": {
      "text/html": [
       "<div>\n",
       "<style scoped>\n",
       "    .dataframe tbody tr th:only-of-type {\n",
       "        vertical-align: middle;\n",
       "    }\n",
       "\n",
       "    .dataframe tbody tr th {\n",
       "        vertical-align: top;\n",
       "    }\n",
       "\n",
       "    .dataframe thead th {\n",
       "        text-align: right;\n",
       "    }\n",
       "</style>\n",
       "<table border=\"1\" class=\"dataframe\">\n",
       "  <thead>\n",
       "    <tr style=\"text-align: right;\">\n",
       "      <th></th>\n",
       "      <th>count</th>\n",
       "      <th>mean</th>\n",
       "      <th>std</th>\n",
       "      <th>min</th>\n",
       "      <th>25%</th>\n",
       "      <th>50%</th>\n",
       "      <th>75%</th>\n",
       "      <th>max</th>\n",
       "    </tr>\n",
       "    <tr>\n",
       "      <th>platform</th>\n",
       "      <th></th>\n",
       "      <th></th>\n",
       "      <th></th>\n",
       "      <th></th>\n",
       "      <th></th>\n",
       "      <th></th>\n",
       "      <th></th>\n",
       "      <th></th>\n",
       "    </tr>\n",
       "  </thead>\n",
       "  <tbody>\n",
       "    <tr>\n",
       "      <th>apple</th>\n",
       "      <td>6268.0</td>\n",
       "      <td>4.138369</td>\n",
       "      <td>0.609530</td>\n",
       "      <td>1.0</td>\n",
       "      <td>4.0</td>\n",
       "      <td>4.3</td>\n",
       "      <td>4.5</td>\n",
       "      <td>5.0</td>\n",
       "    </tr>\n",
       "    <tr>\n",
       "      <th>google</th>\n",
       "      <td>9366.0</td>\n",
       "      <td>4.132415</td>\n",
       "      <td>0.615254</td>\n",
       "      <td>1.0</td>\n",
       "      <td>4.0</td>\n",
       "      <td>4.3</td>\n",
       "      <td>4.5</td>\n",
       "      <td>5.0</td>\n",
       "    </tr>\n",
       "  </tbody>\n",
       "</table>\n",
       "</div>"
      ],
      "text/plain": [
       "           count      mean       std  min  25%  50%  75%  max\n",
       "platform                                                     \n",
       "apple     6268.0  4.138369  0.609530  1.0  4.0  4.3  4.5  5.0\n",
       "google    9366.0  4.132415  0.615254  1.0  4.0  4.3  4.5  5.0"
      ]
     },
     "execution_count": 93,
     "metadata": {},
     "output_type": "execute_result"
    }
   ],
   "source": [
    "# Create a column called `Permutation1`, and assign to it the result of permuting (shuffling) the Rating column\n",
    "# This assignment will use our numpy object's random.permutation() method\n",
    "df['Permutation1'] = np.random.permutation(df['Rating'])\n",
    "\n",
    "# Call the describe() method on our permutation grouped by 'platform'. \n",
    "df.groupby('platform')['Permutation1'].describe()"
   ]
  },
  {
   "cell_type": "code",
   "execution_count": 94,
   "metadata": {
    "colab": {},
    "colab_type": "code",
    "id": "AaGNfPGTFcv7"
   },
   "outputs": [
    {
     "data": {
      "text/html": [
       "<div>\n",
       "<style scoped>\n",
       "    .dataframe tbody tr th:only-of-type {\n",
       "        vertical-align: middle;\n",
       "    }\n",
       "\n",
       "    .dataframe tbody tr th {\n",
       "        vertical-align: top;\n",
       "    }\n",
       "\n",
       "    .dataframe thead th {\n",
       "        text-align: right;\n",
       "    }\n",
       "</style>\n",
       "<table border=\"1\" class=\"dataframe\">\n",
       "  <thead>\n",
       "    <tr style=\"text-align: right;\">\n",
       "      <th></th>\n",
       "      <th>count</th>\n",
       "      <th>mean</th>\n",
       "      <th>std</th>\n",
       "      <th>min</th>\n",
       "      <th>25%</th>\n",
       "      <th>50%</th>\n",
       "      <th>75%</th>\n",
       "      <th>max</th>\n",
       "    </tr>\n",
       "    <tr>\n",
       "      <th>platform</th>\n",
       "      <th></th>\n",
       "      <th></th>\n",
       "      <th></th>\n",
       "      <th></th>\n",
       "      <th></th>\n",
       "      <th></th>\n",
       "      <th></th>\n",
       "      <th></th>\n",
       "    </tr>\n",
       "  </thead>\n",
       "  <tbody>\n",
       "    <tr>\n",
       "      <th>apple</th>\n",
       "      <td>6268.0</td>\n",
       "      <td>4.049697</td>\n",
       "      <td>0.726943</td>\n",
       "      <td>1.0</td>\n",
       "      <td>4.0</td>\n",
       "      <td>4.5</td>\n",
       "      <td>4.5</td>\n",
       "      <td>5.0</td>\n",
       "    </tr>\n",
       "    <tr>\n",
       "      <th>google</th>\n",
       "      <td>9366.0</td>\n",
       "      <td>4.191757</td>\n",
       "      <td>0.515219</td>\n",
       "      <td>1.0</td>\n",
       "      <td>4.0</td>\n",
       "      <td>4.3</td>\n",
       "      <td>4.5</td>\n",
       "      <td>5.0</td>\n",
       "    </tr>\n",
       "  </tbody>\n",
       "</table>\n",
       "</div>"
      ],
      "text/plain": [
       "           count      mean       std  min  25%  50%  75%  max\n",
       "platform                                                     \n",
       "apple     6268.0  4.049697  0.726943  1.0  4.0  4.5  4.5  5.0\n",
       "google    9366.0  4.191757  0.515219  1.0  4.0  4.3  4.5  5.0"
      ]
     },
     "execution_count": 94,
     "metadata": {},
     "output_type": "execute_result"
    }
   ],
   "source": [
    "# Lets compare with the previous analytical summary:\n",
    "df.groupby('platform')['Rating'].describe()"
   ]
  },
  {
   "cell_type": "code",
   "execution_count": 101,
   "metadata": {
    "colab": {},
    "colab_type": "code",
    "id": "aJPNpX0JFcv-"
   },
   "outputs": [
    {
     "data": {
      "text/plain": [
       "[-0.00693972318509406,\n",
       " 0.004165390819443893,\n",
       " -0.006700044465576482,\n",
       " -0.00787180709433688,\n",
       " 0.01380580153799027,\n",
       " -0.007312556748782839,\n",
       " -0.0008678622905557987,\n",
       " 0.00041042421360426573,\n",
       " -0.007339187717628093,\n",
       " 0.002780580439986302,\n",
       " -0.001560267480259725,\n",
       " -0.01191971435740058,\n",
       " -0.0019064700751432184,\n",
       " 0.011355752405104447,\n",
       " -0.01580783580743006,\n",
       " -0.008324533564559644,\n",
       " 0.0012359842474989335,\n",
       " 0.0014224010293490963,\n",
       " 0.028266417615848916,\n",
       " -0.00835116453338891,\n",
       " 0.009491584586575286,\n",
       " -0.0041701024261673325,\n",
       " 0.001768603624219267,\n",
       " 0.010929656903738483,\n",
       " -0.009815867819352952,\n",
       " 0.01572323129417441,\n",
       " -0.006247317995367929,\n",
       " 0.0037659262869098598,\n",
       " 0.013033503441754135,\n",
       " -0.006114163151185181,\n",
       " 0.01252751503386662,\n",
       " -0.005208710210778733,\n",
       " 0.004724641164979282,\n",
       " 0.0013425081228364277,\n",
       " 0.011808478875298789,\n",
       " -0.0010809100412041417,\n",
       " -0.01647361002831893,\n",
       " 0.01612269582672532,\n",
       " 0.0025675326892793393,\n",
       " -0.01676655068551547,\n",
       " 0.00829319098899095,\n",
       " 0.004591486320811633,\n",
       " 0.009811156212633954,\n",
       " -0.0107479517286162,\n",
       " 0.021155948936673497,\n",
       " 0.014018849288667923,\n",
       " 0.0049643198845119585,\n",
       " 0.004271914694772505,\n",
       " -0.01985574307045823,\n",
       " 0.003792557255741791,\n",
       " -0.007978330969687697,\n",
       " 0.016069433889037477,\n",
       " 0.018998840460977107,\n",
       " 0.0017686036242103853,\n",
       " -0.010881106572786514,\n",
       " 0.013672646693812851,\n",
       " 0.010876394966057745,\n",
       " -0.01929649272492462,\n",
       " -0.0029184468908818317,\n",
       " 0.011542169186948392,\n",
       " 0.004911057946823227,\n",
       " -0.007179401904649829,\n",
       " 0.015163980948603495,\n",
       " 0.013912325413322435,\n",
       " -0.003664114018303799,\n",
       " -0.012425702765257896,\n",
       " -0.0031847565792482158,\n",
       " -0.01205286920157711,\n",
       " 0.013060134410586954,\n",
       " -0.002518982358348687,\n",
       " -0.011333833043003061,\n",
       " -0.0077120212813293065,\n",
       " 0.008399714864315122,\n",
       " -0.007765283219020702,\n",
       " 0.005337153448196297,\n",
       " 0.016495529390416763,\n",
       " -0.0017999461997773025,\n",
       " 0.01835969720890862,\n",
       " 0.007946988394122556,\n",
       " 0.0030468901283189354,\n",
       " -0.006194056057704067,\n",
       " -0.005208710210774292,\n",
       " 0.0024077468762913057,\n",
       " -6.893322546286385e-05,\n",
       " 0.004511593414300741,\n",
       " -0.006806568340920194,\n",
       " 0.005656725074243418,\n",
       " 0.012447622127377045,\n",
       " -0.007951700000861095,\n",
       " 0.0021680681567568527,\n",
       " 0.010130727838642883,\n",
       " -0.016020883558110377,\n",
       " -0.0073391877176263165,\n",
       " 0.017640661050338124,\n",
       " -0.019323123693749444,\n",
       " 0.004964319884507518,\n",
       " 0.000490317120095618,\n",
       " -0.018657349472873896,\n",
       " -0.004090209519671539,\n",
       " -0.010854475603994551,\n",
       " 0.008133405175960284,\n",
       " -0.005741329587485744,\n",
       " 0.015430290636979649,\n",
       " 0.008719286490348033,\n",
       " -0.00028198097615739215,\n",
       " -0.021453601200607686,\n",
       " -0.012558857609457519,\n",
       " -0.0012406958542463542,\n",
       " -0.022838411580095475,\n",
       " 0.008559500677348453,\n",
       " 0.022993485786331647,\n",
       " -0.011253940136494833,\n",
       " -0.007925069032015841,\n",
       " -0.004649459865214034,\n",
       " 3.759064985331406e-05,\n",
       " -0.00507555536657911,\n",
       " -0.0056081747433154305,\n",
       " -0.0022526726699938493,\n",
       " -0.0003618738826585144,\n",
       " 0.005576832167708545,\n",
       " -0.012079500170412594,\n",
       " -0.0038238998313122607,\n",
       " 0.0050708437598583345,\n",
       " -0.011520249824862105,\n",
       " -0.007738652250177225,\n",
       " 0.007014904484841544,\n",
       " 0.011382383373931937,\n",
       " 0.010903025934866584,\n",
       " 0.0023811159074327293,\n",
       " 0.019318412086995806,\n",
       " 0.002807211408822674,\n",
       " -0.0056880676498201055,\n",
       " 0.001289246185174342,\n",
       " -0.008191378720397324,\n",
       " -0.013011584079650973,\n",
       " 0.0002240074317167995,\n",
       " -0.005714698618638714,\n",
       " 0.0029669972218240304,\n",
       " 0.0043784385701357564,\n",
       " 0.022993485786348522,\n",
       " -0.004542935989884533,\n",
       " -0.017751896532443467,\n",
       " -0.007552235468317292,\n",
       " 0.0003837932447599002,\n",
       " 0.004804534071490174,\n",
       " 0.004831165040330099,\n",
       " -0.007978330969693914,\n",
       " 0.016149326795551033,\n",
       " 0.0029669972218160368,\n",
       " -0.002279303638834662,\n",
       " -0.006646782527911732,\n",
       " 0.014231897039369557,\n",
       " -0.0172459081245524,\n",
       " -0.0002819809761271941,\n",
       " -0.007498973530666753,\n",
       " 0.010610085277707348,\n",
       " -0.023637340645142224,\n",
       " 0.00403223597523894,\n",
       " -0.00470272180290543,\n",
       " 0.00035716227591020555,\n",
       " -0.014343132521454471,\n",
       " 0.00501758182217138,\n",
       " 0.012447622127370828,\n",
       " -0.010268594289563282,\n",
       " 0.02187498509523067,\n",
       " 0.011701954999953301,\n",
       " -0.01013543944540185,\n",
       " -0.0012673268230782853,\n",
       " 6.422161872965404e-05,\n",
       " 0.003606140473856101,\n",
       " -0.005395126992624455,\n",
       " 0.001369139091679017,\n",
       " 0.014711254478404712,\n",
       " 0.0007566268084460148,\n",
       " -0.001214064885398436,\n",
       " -0.013570834425213008,\n",
       " -0.0038238998313273598,\n",
       " -0.012372440827607356,\n",
       " -0.0004151358203134947,\n",
       " -0.005927746369312814,\n",
       " -0.017672003625919253,\n",
       " 0.007148059329027845,\n",
       " 0.019052102398637416,\n",
       " 0.0014224010293268918,\n",
       " 0.004458331476630661,\n",
       " -0.004383150176858308,\n",
       " 0.0014490319982005673,\n",
       " -0.00014882613196487426,\n",
       " 0.001315877153996503,\n",
       " -0.016739919716670215,\n",
       " 0.0017686036242059444,\n",
       " 0.004192021788256284,\n",
       " -0.00278529204671063,\n",
       " -0.010188701383065712,\n",
       " 0.002620794626952083,\n",
       " 0.017347720393146915,\n",
       " 0.010104096869812729,\n",
       " -0.00044176678917029477,\n",
       " 0.0055768321677494015,\n",
       " -0.005155448273096219,\n",
       " -0.009576189099868238,\n",
       " 0.004724641164981946,\n",
       " -0.01229254792109824,\n",
       " 0.016389005515065946,\n",
       " 0.01441831382120018,\n",
       " -0.006806568340901542,\n",
       " -0.00022871903847754282,\n",
       " -0.004276626301505715,\n",
       " 0.0005169480889151146,\n",
       " -0.016180669371126832,\n",
       " 0.02813326277166528,\n",
       " 0.002674056564634597,\n",
       " 0.0110095498102174,\n",
       " -0.006886461247423981,\n",
       " -0.009735974912852718,\n",
       " -0.007605497405983819,\n",
       " -0.007232663842300369,\n",
       " -0.007046247060451982,\n",
       " -0.024249852928371673,\n",
       " 0.01915862627397935,\n",
       " 0.0005435790577621447,\n",
       " -0.0015336365114295702,\n",
       " 0.00027726936942062963,\n",
       " 0.0051507366663487986,\n",
       " 0.012820455691072041,\n",
       " -0.0036907449871277365,\n",
       " 0.0035528785362259896,\n",
       " 0.014285158977023649,\n",
       " 0.016282481639712465,\n",
       " 0.01686836295411176,\n",
       " 0.011036180779085747,\n",
       " -0.004702721802910759,\n",
       " -0.004942400522417678,\n",
       " 0.0008098887461098769,\n",
       " -0.011227309167670896,\n",
       " -0.006593520590242541,\n",
       " -0.0036108520806044098,\n",
       " 0.0018484965307195012,\n",
       " -0.010455011071440978,\n",
       " 0.0026740565646274916,\n",
       " -0.0031581256104109556,\n",
       " -0.0026787681713900113,\n",
       " -0.008590843252898495,\n",
       " -0.02385038839582876,\n",
       " -0.007898438063206115,\n",
       " 0.014391682852374466,\n",
       " -0.011493618856009746,\n",
       " -0.013331155705691877,\n",
       " 0.010263882682827408,\n",
       " -0.0011608029477168103,\n",
       " 0.0054703082923781565,\n",
       " 0.012261205345507342,\n",
       " -0.004969031491249609,\n",
       " 0.012128050501334364,\n",
       " 0.004538224383148659,\n",
       " -0.0014004816672530396,\n",
       " 0.002034913312575881,\n",
       " 0.009944311056803379,\n",
       " 0.008745917459179964,\n",
       " -0.002838553984382486,\n",
       " 0.0014756629670129584,\n",
       " 0.011195966592085327,\n",
       " 0.004911057946835662,\n",
       " -0.003024970766245083,\n",
       " -0.0068331993097503485,\n",
       " 1.0959681036482039e-05,\n",
       " 0.0009963055279635924,\n",
       " 0.018519483021925076,\n",
       " 0.004857796009178017,\n",
       " -0.0065136276837307605,\n",
       " -0.0033445423922824347,\n",
       " 0.0020615442813936014,\n",
       " -0.002572244296025872,\n",
       " -0.01634045518413707,\n",
       " -0.009549558131013214,\n",
       " -0.0019331010439751495,\n",
       " -0.0072060328734480095,\n",
       " 0.0014490319981677047,\n",
       " -0.007285925779977553,\n",
       " -0.00986912975705767,\n",
       " -0.0031847565792730848,\n",
       " -0.02648685431059139,\n",
       " 0.007840464518764634,\n",
       " 0.00669533285881041,\n",
       " -0.005048924397753396,\n",
       " 0.008879072303355606,\n",
       " 0.009438322648928299,\n",
       " -0.01053490397791279,\n",
       " 0.005896403793757443,\n",
       " -0.013411048612208099,\n",
       " 0.011169335623248067,\n",
       " -0.007099508998112292,\n",
       " -0.0014803745737514973,\n",
       " -0.019988897914654302,\n",
       " 0.01963798371303671,\n",
       " 0.010317144620490382,\n",
       " 0.006801856734180767,\n",
       " 0.012687300846899063,\n",
       " -0.0036907449871383946,\n",
       " 0.003259937879020569,\n",
       " -0.002012993950478048,\n",
       " 0.018679268834940643,\n",
       " 0.013486229911973346,\n",
       " -0.006327210901873492,\n",
       " -0.02158675604480198,\n",
       " 0.00823992905133153,\n",
       " -0.01735243199987835,\n",
       " 0.005976296700266559,\n",
       " 0.002381115907416742,\n",
       " 0.010583454308856766,\n",
       " -0.012505595671793657,\n",
       " 0.004192021788271383,\n",
       " 0.008160036144805538,\n",
       " 0.002567532689287333,\n",
       " -0.011786559513229378,\n",
       " 0.007148059329053602,\n",
       " -0.0028918159220552297,\n",
       " 0.021022794092522723,\n",
       " 0.0031267830348458148,\n",
       " -0.00440978114570445,\n",
       " 0.0015821868423735452,\n",
       " -0.007578866437157217,\n",
       " -0.0011874339165647285,\n",
       " 0.0006234719642677078,\n",
       " -0.0002819809761547276,\n",
       " 0.005949665731425746,\n",
       " -0.022172637359155978,\n",
       " 0.008958965209868275,\n",
       " 0.01532376676164482,\n",
       " -0.0075256044994977955,\n",
       " -0.012931691173154292,\n",
       " 0.0028338423776403943,\n",
       " 0.005709987011893958,\n",
       " 0.007760571612268841,\n",
       " 0.01553681451231892,\n",
       " 0.012474253096208976,\n",
       " 0.006988273516032706,\n",
       " 0.006642070921167864,\n",
       " -0.008644105190598772,\n",
       " 0.005949665731415976,\n",
       " -0.005182079241935256,\n",
       " 0.011116073685565553,\n",
       " -0.006220687026533334,\n",
       " 0.012634038909199674,\n",
       " 0.021315734749689952,\n",
       " -0.004436412114542598,\n",
       " 0.0017686036242130498,\n",
       " -0.013597465394051156,\n",
       " 0.008479607770834896,\n",
       " 0.02027712696508388,\n",
       " 0.010956287872568637,\n",
       " -0.011067523354667763,\n",
       " -0.004702721802893883,\n",
       " 0.008426345833155935,\n",
       " 6.422161871011411e-05,\n",
       " 0.014657992540741738,\n",
       " 0.004138759850596863,\n",
       " 0.0010761984344735964,\n",
       " -0.010508273009091518,\n",
       " 0.0005169480889035682,\n",
       " 0.0037925572557240272,\n",
       " -0.0002819809761591685,\n",
       " 0.019637983713054474,\n",
       " -0.0012406958542445778,\n",
       " -0.01833777784680546,\n",
       " 0.020250495996259055,\n",
       " 0.006801856734177214,\n",
       " 0.0026207946269494187,\n",
       " 0.0009963055279742505,\n",
       " 0.018173280427061123,\n",
       " 0.0025941636581210403,\n",
       " 0.0067752257653381776,\n",
       " 0.011302490467437032,\n",
       " 0.007014904484878848,\n",
       " 0.02208803284592964,\n",
       " -0.01088110657279362,\n",
       " 0.01042366849585985,\n",
       " -0.004063578550844937,\n",
       " -0.0028918159220552297,\n",
       " 0.005177367635217145,\n",
       " -0.016846443592023697,\n",
       " -0.0044630430833692,\n",
       " -0.006726675434424401,\n",
       " -0.00395705467547991,\n",
       " 0.006562178014660525,\n",
       " 0.00930516780475088,\n",
       " -0.010295225258395213,\n",
       " -0.0014004816672423814,\n",
       " -0.00994902266355524,\n",
       " 0.005470308292387038,\n",
       " -0.013437679581033812,\n",
       " -0.005927746369352782,\n",
       " 0.003499616598530153,\n",
       " 0.013672646693828838,\n",
       " -0.0012939577919173217,\n",
       " -0.0023059346076790277,\n",
       " -0.01016207041422934,\n",
       " -0.002279303638839991,\n",
       " -0.009735974912854495,\n",
       " 0.0006234719642570496,\n",
       " -0.000947755197037381,\n",
       " -0.0077919141878437514,\n",
       " -0.004516305021022404,\n",
       " 0.004884426977991296,\n",
       " 0.004005605006419444,\n",
       " 0.0025675326892846684,\n",
       " -0.010401749133752247,\n",
       " 0.015377028699292694,\n",
       " 0.0006767339019297935,\n",
       " 0.011835109844138714,\n",
       " -0.009469665224500545,\n",
       " 0.012926979566413976,\n",
       " -0.0019064700751432184,\n",
       " 0.009891049119142181,\n",
       " -0.0015336365114269057,\n",
       " 0.008133405175985153,\n",
       " -0.005421757961449281,\n",
       " 0.010556823340039934,\n",
       " -0.021613387013633023,\n",
       " -0.000654814539834625,\n",
       " 0.0004903171200814072,\n",
       " -0.00401031661317397,\n",
       " -0.019802481132797034,\n",
       " 0.006002927669112701,\n",
       " -0.0056081747433154305,\n",
       " 0.009891049119128859,\n",
       " 0.0009963055279849087,\n",
       " -0.01080121366628628,\n",
       " -0.009443034255676608,\n",
       " -0.009522927162157302,\n",
       " 0.003313199816663115,\n",
       " 0.008319821957826434,\n",
       " -0.0075256044994826965,\n",
       " 0.017986863645199413,\n",
       " 0.0028072114088093514,\n",
       " 0.0012626152163157656,\n",
       " -0.010028915570054586,\n",
       " -0.004862507615897904,\n",
       " -0.01447628736562212,\n",
       " 0.007387738048572068,\n",
       " -0.003184756579259762,\n",
       " -0.004516305021041944,\n",
       " 0.007121428360205684,\n",
       " -0.010241963320740233,\n",
       " -0.006646782527907291,\n",
       " -0.0014271126360760888,\n",
       " 0.013113396348274797,\n",
       " -9.556419431433483e-05,\n",
       " 0.015270504823967634,\n",
       " -0.0005216596956643116,\n",
       " -0.018470932691013964,\n",
       " -0.005261972148450589,\n",
       " 0.0023811159074176302,\n",
       " 0.00043705518244596675,\n",
       " 0.005203998604020654,\n",
       " -0.0036108520806124034,\n",
       " 0.004751272133806772,\n",
       " -0.007365818686469794,\n",
       " -0.015514895150225527,\n",
       " -0.001214064885388666,\n",
       " -0.015035537711195701,\n",
       " 0.01798686364520652,\n",
       " 0.0042452837259627785,\n",
       " -0.004729352771717821,\n",
       " -0.015248585461868913,\n",
       " -0.0017999461997861843,\n",
       " -0.015488264181399813,\n",
       " -0.00454293598986677,\n",
       " 0.014737885447263288,\n",
       " 0.007547523861576977,\n",
       " -0.004196733394992158,\n",
       " -0.0018265771686154508,\n",
       " -0.013917037020093836,\n",
       " 0.002487639782763118,\n",
       " -0.015088799648856899,\n",
       " -0.008218009689195505,\n",
       " 0.007654047736924241,\n",
       " -0.010028915570059915,\n",
       " 0.005896403793762772,\n",
       " 0.001102829403313521,\n",
       " 0.00011748355638996344,\n",
       " -0.005554912805639134,\n",
       " -0.007019616091620939,\n",
       " 0.00986441815028094,\n",
       " -0.018311146877995732,\n",
       " -0.009949022663542806,\n",
       " 0.005656725074230096,\n",
       " -0.006007639275853016,\n",
       " 0.0005435790577772437,\n",
       " 0.012394360189692755,\n",
       " 0.0116753240311267,\n",
       " -0.0011608029477345738,\n",
       " -0.008457688408739727,\n",
       " -0.0018265771686181154,\n",
       " -0.0004950287268359332,\n",
       " 0.010370406558186218,\n",
       " 0.00613608251328035,\n",
       " 0.004405069538941042,\n",
       " 0.008239929051319095,\n",
       " 0.00861276261501498,\n",
       " 0.007174690297842012,\n",
       " 0.008399714864339103,\n",
       " 0.008293190988974075,\n",
       " -0.0035842211117866896,\n",
       " -0.0023591965453375607,\n",
       " -0.01471596608514325,\n",
       " -0.0139436679888858,\n",
       " -0.02235905414103012,\n",
       " -0.0021727797634936152,\n",
       " 0.0001707454940724773,\n",
       " 0.014152004132858664,\n",
       " -0.01942964756907717,\n",
       " 0.017587399112668045,\n",
       " -0.011946345326234287,\n",
       " 0.0021148062190716743,\n",
       " 0.01822654236472765,\n",
       " 0.009118751022875848,\n",
       " 0.002221330094396734,\n",
       " 0.00893233424103368,\n",
       " 0.003020259159501215,\n",
       " -0.0027053991401881916,\n",
       " -0.0012939577918924527,\n",
       " 0.0010495674656469944,\n",
       " -0.011360464011830551,\n",
       " 0.018306435271236765,\n",
       " -0.010028915570043928,\n",
       " 0.007174690297873099,\n",
       " -0.00014882613195421612,\n",
       " 0.015137349979797321,\n",
       " 0.008745917459195951,\n",
       " -0.0003618738826620671,\n",
       " -0.0006015526021769801,\n",
       " 0.00216806815674353,\n",
       " 0.02054343665343783,\n",
       " 0.01140901434278252,\n",
       " -4.2302256638926394e-05,\n",
       " -0.0025189823583451343,\n",
       " 0.003952343068730713,\n",
       " -0.0164736100283287,\n",
       " -0.0021461487946332625,\n",
       " 0.003206675941326509,\n",
       " 0.011781847906459753,\n",
       " -0.006513627683732537,\n",
       " 0.00421865275710509,\n",
       " 0.003686033380400744,\n",
       " 0.021475520562706407,\n",
       " 0.003180044972504348,\n",
       " -0.007365818686490222,\n",
       " -0.001054279072389086,\n",
       " 0.00025063840057359954,\n",
       " -0.01572794290091295,\n",
       " 0.006935011578359962,\n",
       " -0.00611416315119051,\n",
       " 0.01220794340784881,\n",
       " -0.008963676816610366,\n",
       " 0.006508916076979787,\n",
       " -6.893322546641656e-05,\n",
       " 0.007307845142062064,\n",
       " -0.006513627683727208,\n",
       " 0.00839971486432578,\n",
       " 0.0003305313070782745,\n",
       " -0.013277893768016469,\n",
       " -0.00803159290737021,\n",
       " 0.010716609153034184,\n",
       " 0.009678001368436107,\n",
       " 0.012953610535242355,\n",
       " -0.004702721802890331,\n",
       " 0.004271914694770729,\n",
       " 0.009012227147560559,\n",
       " -0.0037706378936537277,\n",
       " -0.012026238232735409,\n",
       " 0.0003305313070693927,\n",
       " -0.0011874339165895975,\n",
       " 0.010050834932139097,\n",
       " 0.008532869708509416,\n",
       " 0.0013957700605233825,\n",
       " 0.00019737646289108568,\n",
       " 0.013805801537988494,\n",
       " -0.004862507615902345,\n",
       " 0.00014411452523344082,\n",
       " 0.02829304858466397,\n",
       " 0.007680678705755284,\n",
       " -0.004729352771716044,\n",
       " 0.010370406558157796,\n",
       " -6.893322546019931e-05,\n",
       " -0.010401749133744254,\n",
       " 0.013113396348279238,\n",
       " 0.0036061404738898517,\n",
       " 0.012607407940377513,\n",
       " -0.02054814826019591,\n",
       " -0.00899030778544585,\n",
       " 0.01862600689727323,\n",
       " 0.0045914863207894285,\n",
       " 0.028000107927474538,\n",
       " -0.0007347074463330827,\n",
       " 0.004032235975260257,\n",
       " 0.02789358405213438,\n",
       " 0.021289103780866903,\n",
       " 0.010450299464680235,\n",
       " 0.004431700507789849,\n",
       " -0.006220687026534222,\n",
       " -0.005128817304267841,\n",
       " 0.01766729201918782,\n",
       " 0.004671379227298544,\n",
       " 0.003233306910174427,\n",
       " -0.004622828896380327,\n",
       " 0.0070947973913577655,\n",
       " -0.015062168680023191,\n",
       " -0.010188701383060383,\n",
       " 0.0031800449725167823,\n",
       " -0.0057945915251469415,\n",
       " -0.008058223876190596,\n",
       " 0.00025063840057715225,\n",
       " -0.00393042370664709,\n",
       " 0.009358429742399643,\n",
       " -0.0025722442960196545,\n",
       " -0.01191971435740502,\n",
       " 0.004564855351969044,\n",
       " 0.007334476110893107,\n",
       " -0.0033179114234345164,\n",
       " 0.015190611917450525,\n",
       " -0.004436412114537269,\n",
       " -0.006034270244684947,\n",
       " 0.008639393583847799,\n",
       " 0.0025675326892891093,\n",
       " -0.01141372594952017,\n",
       " 0.0067752257653328485,\n",
       " -0.002971708828571451,\n",
       " -0.0018265771686385435,\n",
       " 0.015110719010947626,\n",
       " -0.004090209519678645,\n",
       " -0.0038505308001575145,\n",
       " -0.00235919654533312,\n",
       " 0.016468898421564404,\n",
       " -0.012665381484780802,\n",
       " 0.03340619460114791,\n",
       " 0.005257260541708497,\n",
       " -0.01098763044813289,\n",
       " 0.0007832577772859395,\n",
       " 0.0019550204060587717,\n",
       " -0.013917037020088507,\n",
       " 0.0024876397827959806,\n",
       " -0.005688067649809447,\n",
       " -0.009576189099840704,\n",
       " 0.0038191882245515174,\n",
       " 0.016415636483904095,\n",
       " 0.001129460372140123,\n",
       " -0.022172637359181735,\n",
       " 0.004804534071488398,\n",
       " -0.006060901213531089,\n",
       " 0.005150736666351463,\n",
       " -0.020841088917379125,\n",
       " -0.010455011071431208,\n",
       " 0.007440999986234154,\n",
       " 0.002381115907431841,\n",
       " 0.001555555873515857,\n",
       " 0.020516805684613892,\n",
       " 0.0002240074317372276,\n",
       " 0.0031001520660067783,\n",
       " 0.016468898421572398,\n",
       " -0.008963676816629906,\n",
       " -0.010215332351921624,\n",
       " 0.02179509218873754,\n",
       " -0.01218602404575364,\n",
       " -0.01873724237936525,\n",
       " -0.0070462470604484295,\n",
       " 0.009251905867071919,\n",
       " 0.011062811747918566,\n",
       " -0.0026255062337234847,\n",
       " 0.013060134410586066,\n",
       " 0.013299813130113414,\n",
       " 0.009997572994488557,\n",
       " -0.012771905360142277,\n",
       " 0.012207943407847033,\n",
       " 0.00198165137489692,\n",
       " 0.003180044972500795,\n",
       " 0.008346452926640602,\n",
       " 0.018412959146577812,\n",
       " 0.006322499295121631,\n",
       " 0.007600785799257714,\n",
       " -0.0036907449871241838,\n",
       " -0.0033711733610983785,\n",
       " 0.0022745920320863533,\n",
       " -0.006513627683734313,\n",
       " -0.008590843252927804,\n",
       " 0.006695332858827285,\n",
       " 0.0016887107177074867,\n",
       " 0.0073877380485551924,\n",
       " 0.016415636483898766,\n",
       " -0.0016934223244566837,\n",
       " -0.013198000861526005,\n",
       " -0.018470932691013076,\n",
       " -0.005608174743302108,\n",
       " 0.007281214173201711,\n",
       " 0.008106774207128353,\n",
       " -0.010082177507726442,\n",
       " -0.00020208806964916448,\n",
       " -0.00643373477723852,\n",
       " -0.00720603287345245,\n",
       " -0.008138116782722804,\n",
       " -0.013118107955007119,\n",
       " -0.010827844635100448,\n",
       " -0.0007613384151738956,\n",
       " 0.02765390533262213,\n",
       " -0.006913092216271899,\n",
       " -0.0025456133271815062,\n",
       " 0.008612762615003433,\n",
       " 0.009092120054046582,\n",
       " 0.012820455691090693,\n",
       " -0.014076822833107627,\n",
       " 0.0049110579468338855,\n",
       " 0.003153414003679522,\n",
       " 0.0037392953180432897,\n",
       " 0.003526247567356755,\n",
       " -0.001986362981622136,\n",
       " -0.003451066267626146,\n",
       " 0.00797361936294294,\n",
       " -0.0035043282052651392,\n",
       " 0.001955020406050778,\n",
       " 0.014098742195172598,\n",
       " 0.00685511867185884,\n",
       " 0.0052838915105413164,\n",
       " 0.0037392953180424016,\n",
       " -0.010188701383073706,\n",
       " -0.016739919716670215,\n",
       " 0.00962473943077935,\n",
       " -0.012079500170399271,\n",
       " -0.015621419025550587,\n",
       " -0.00872399809708746,\n",
       " -0.002385827514174821,\n",
       " 0.013086765379423326,\n",
       " -0.011866452419718954,\n",
       " -0.0031048636727630807,\n",
       " 0.007654047736930458,\n",
       " 0.009757894274970091,\n",
       " 0.002461008813922305,\n",
       " 0.0016088178111983709,\n",
       " 0.016602053265751593,\n",
       " 0.008586131646171502,\n",
       " -0.018497563659836125,\n",
       " 0.005683356043077126,\n",
       " 0.01939830499350137,\n",
       " -0.013411048612193,\n",
       " -0.006726675434422624,\n",
       " -0.012239285983430825,\n",
       " 0.010689978184205806,\n",
       " -0.011759928544385012,\n",
       " 0.005417046354724064,\n",
       " 0.0031001520660165482,\n",
       " 0.0004903171201044998,\n",
       " 0.00736110707973836,\n",
       " 0.007654047736938452,\n",
       " -0.004489674052201131,\n",
       " 0.0036061404738783054,\n",
       " -0.009949022663533924,\n",
       " -0.009389772317978107,\n",
       " 0.0139389563821668,\n",
       " -0.005022293428926794,\n",
       " 0.0036327714427244473,\n",
       " 0.005150736666355904,\n",
       " 0.0008631506837950553,\n",
       " -0.0056348057121420325,\n",
       " -0.003903792737808942,\n",
       " -0.0002553500072846049,\n",
       " -0.008803891003606346,\n",
       " 0.013646015724983585,\n",
       " -0.00872399809708213,\n",
       " -0.0012673268230880552,\n",
       " -0.0004950287268306042,\n",
       " 0.0031001520660218773,\n",
       " 0.006695332858830838,\n",
       " 0.011568800155783876,\n",
       " 0.008026881300613908,\n",
       " -0.0025456133271832826,\n",
       " 0.007867095487609888,\n",
       " -0.013970298957751481,\n",
       " -0.0013472197295802957,\n",
       " -0.01064142785327249,\n",
       " -0.004596197927568824,\n",
       " 0.007680678705774824,\n",
       " 0.006988273516007837,\n",
       " 0.0018751274995683076,\n",
       " -0.0004151358203268174,\n",
       " -0.00334454239226023,\n",
       " -0.011466987887163604,\n",
       " 0.003552878536208226,\n",
       " 0.0045648553519628265,\n",
       " 0.002567532689297991,\n",
       " -0.0006281835710186812,\n",
       " -0.010295225258414753,\n",
       " 0.012980241504084056,\n",
       " -0.004356519208024601,\n",
       " 0.0011294603721614394,\n",
       " -0.0013738506984068977,\n",
       " -0.013038215048491786,\n",
       " -0.0032646494857431207,\n",
       " -0.019855743070466225,\n",
       " -0.007072878029282137,\n",
       " 0.006642070921166088,\n",
       " 0.00557683216773075,\n",
       " -0.004729352771722262,\n",
       " -0.002518982358334476,\n",
       " -0.003024970766234425,\n",
       " 0.004032235975233611,\n",
       " 0.004431700507817382,\n",
       " 0.0007832577772868277,\n",
       " -0.00925661747380957,\n",
       " -0.0004417667891436494,\n",
       " -0.0028385539843860386,\n",
       " -0.004409781145698233,\n",
       " 0.007414369017413769,\n",
       " -0.0020928868569800585,\n",
       " 0.001635448780030302,\n",
       " -0.006540258652560915,\n",
       " -0.005448388930297199,\n",
       " -0.004569566958722682,\n",
       " -0.0017466842621276513,\n",
       " -0.011413725949507736,\n",
       " -0.022305792203344943,\n",
       " 0.007760571612284828,\n",
       " -0.014795858991644373,\n",
       " -0.003903792737792955,\n",
       " -0.020228576634169215,\n",
       " 0.016255850670893857,\n",
       " -0.008830521972433836,\n",
       " -0.0156480499944065,\n",
       " 0.004298545663607989,\n",
       " -0.013783882175902207,\n",
       " 0.0009164126214491475,\n",
       " 0.007867095487600118,\n",
       " -0.010801213666302267,\n",
       " -0.007152770935771713,\n",
       " -0.00861747422175796,\n",
       " -0.02337103095678561,\n",
       " 0.006695332858834391,\n",
       " -0.021320446356415168,\n",
       " -0.003957054675481686,\n",
       " 0.0008631506837888381,\n",
       " 0.00871928649037823,\n",
       " -0.0036108520806292788,\n",
       " -0.003557590142943212,\n",
       " -0.004196733394997487,\n",
       " -0.0024124584830049756,\n",
       " -0.0005216596956705288,\n",
       " -0.002305934607676363,\n",
       " -0.011333833042997732,\n",
       " -0.002945077859725309,\n",
       " 0.024777760698354356,\n",
       " -0.016500240997158855,\n",
       " 0.009571477493090619,\n",
       " 0.019851031463718805,\n",
       " 0.006695332858831726,\n",
       " 0.013406337005466007,\n",
       " 0.0013957700605047307,\n",
       " -0.004809245678239371,\n",
       " -0.004755983740552416,\n",
       " 0.01140901434276742,\n",
       " -0.0015602674802570604,\n",
       " 0.007467630955066085,\n",
       " 0.004058866944082418,\n",
       " 0.01862600689727234,\n",
       " -0.010455011071423215,\n",
       " 0.002567532689292662,\n",
       " -0.011014261416987026,\n",
       " 0.004591486320802751,\n",
       " -0.01964269531978502,\n",
       " -0.0024390894518475648,\n",
       " -0.009522927162174177,\n",
       " 0.008239929051311101,\n",
       " 0.008932334241031903,\n",
       " -0.0082446406580452,\n",
       " 0.01697488682947057,\n",
       " 0.0060295586379419674,\n",
       " 0.0015821868423664398,\n",
       " -0.03125379773219539,\n",
       " 0.0028338423776412824,\n",
       " -0.0018265771686225563,\n",
       " -0.018843766254688532,\n",
       " 0.015590076449999657,\n",
       " 0.0019816513748782683,\n",
       " 0.009012227147541019,\n",
       " -0.002252672670012501,\n",
       " 0.0005435790577683619,\n",
       " -0.003903792737802725,\n",
       " -0.005501650867967278,\n",
       " 0.005310522479369695,\n",
       " -0.0004417667891605248,\n",
       " 0.004431700507790737,\n",
       " 0.002088175250238855,\n",
       " 0.006109451544439537,\n",
       " -0.0011608029477212511,\n",
       " 0.0028072114087906996,\n",
       " 0.02283369997332496,\n",
       " 0.02515059426202626,\n",
       " 0.00680185673417899,\n",
       " 0.0008098887461223114,\n",
       " 0.0033398307855332376,\n",
       " -0.014103453801931565,\n",
       " 0.0017952345930769553,\n",
       " -0.01948290950677478,\n",
       " 0.0096513703996024,\n",
       " -0.018071468158468385,\n",
       " -0.00022871903848020736,\n",
       " 0.011116073685580652,\n",
       " -0.0029450778597182037,\n",
       " 0.016841731985291375,\n",
       " 0.015909648076019245,\n",
       " -0.011919714357401467,\n",
       " 0.005070843759843235,\n",
       " -0.0028918159220445716,\n",
       " 0.0070947973913622064,\n",
       " -0.013597465394052932,\n",
       " -0.00520871021076541,\n",
       " -0.011653404669044853,\n",
       " 0.029411549275781823,\n",
       " -0.011253940136487728,\n",
       " 0.0009430435902908485,\n",
       " 0.0027006875334532054,\n",
       " -0.007498973530657871,\n",
       " 0.01385906347567012,\n",
       " -0.003744006924799592,\n",
       " -0.015062168680032073,\n",
       " -0.0037440069248155794,\n",
       " -0.0059011154005128574,\n",
       " 0.01859937592843508,\n",
       " -0.0016934223244486901,\n",
       " -0.020654672135527186,\n",
       " -0.017805158470095783,\n",
       " 0.010769871090714922,\n",
       " 0.0045648553519672674,\n",
       " -0.008644105190581008,\n",
       " -0.004063578550828062,\n",
       " -0.006486996714900606,\n",
       " -0.0067266754344137425,\n",
       " -0.0019064700751441066,\n",
       " 0.002833842377634177,\n",
       " -0.007898438063185687,\n",
       " 0.0036327714427066837,\n",
       " 0.007281214173220363,\n",
       " 0.0003571622759004356,\n",
       " 0.010530192371196456,\n",
       " 0.004564855351969932,\n",
       " -0.0003086119449928759,\n",
       " 0.008266560020141256,\n",
       " 0.002700687533466528,\n",
       " -0.003957054675495897,\n",
       " 0.0004903171200778544,\n",
       " -0.001640160386765288,\n",
       " -0.008084854845028744,\n",
       " 0.01740098233081966,\n",
       " -0.012319178889930171,\n",
       " -0.002092886856982723,\n",
       " 0.006029558637929533,\n",
       " -0.011946345326233399,\n",
       " 0.020889639248319547,\n",
       " -0.002066255888176549,\n",
       " 0.006375761232797927,\n",
       " 0.0073877380485507516,\n",
       " -0.026087389778058245,\n",
       " 0.002327853969768867,\n",
       " 0.007787202581103436,\n",
       " -0.001933101043958274,\n",
       " 0.00325993787901524,\n",
       " 0.011249228529766064,\n",
       " 0.0037126643492202405,\n",
       " 0.0010761984345046827,\n",
       " 0.0029403662529832175,\n",
       " -0.013011584079677618,\n",
       " 0.0024876397827942043,\n",
       " 0.0005435790577568156,\n",
       " -0.004915769553578642,\n",
       " 0.017108041673639995,\n",
       " 0.004831165040331875,\n",
       " 0.0037392953180672706,\n",
       " 0.006801856734197642,\n",
       " -0.004436412114526611,\n",
       " -0.009336510380340002,\n",
       " 0.004698010196129587,\n",
       " -0.00225267266999829,\n",
       " -0.005874484431671156,\n",
       " 0.006002927669094937,\n",
       " 0.007547523861582306,\n",
       " 0.003765926286885879,\n",
       " 0.006109451544435984,\n",
       " -0.005794591525149606,\n",
       " -0.0026521372025252177,\n",
       " 0.01271393181572833,\n",
       " 0.009278536835909179,\n",
       " -0.006806568340915753,\n",
       " -0.0038505308001468563,\n",
       " -0.013331155705682995,\n",
       " 0.021635306375697105,\n",
       " 0.02224781865892833,\n",
       " 0.01162206209346639,\n",
       " 0.008506238739664163,\n",
       " -0.0005216596956580943,\n",
       " -0.001533636511438452,\n",
       " -0.004729352771722262,\n",
       " 0.013486229911964465,\n",
       " 0.008213298082481835,\n",
       " ...]"
      ]
     },
     "execution_count": 101,
     "metadata": {},
     "output_type": "execute_result"
    }
   ],
   "source": [
    "# The difference in the means for Permutation1 (0.001103) now looks hugely different to our observed difference of 0.14206. \n",
    "# It's sure starting to look like our observed difference is significant, and that the Null is false; platform does impact on ratings\n",
    "# But to be sure, let's create 10,000 permutations, calculate the mean ratings for Google and Apple apps and the difference between these for each one, and then take the average of all of these differences.\n",
    "# Let's create a vector with the differences - that will be the distibution of the Null.\n",
    "\n",
    "# First, make a list called difference.\n",
    "difference = []\n",
    "\n",
    "# Now make a for loop that does the following 10,000 times:\n",
    "# 1. makes a permutation of the 'Rating' as you did above\n",
    "# 2. calculates the difference in the mean rating for apple and the mean rating for google. \n",
    "for i in range(10000):\n",
    "    p = 'Permutation' + str(i+1)\n",
    "    df[p] = np.random.permutation(df['Rating'])\n",
    "    difference.append(df.groupby('platform')[p].mean().diff()[1])\n",
    "difference"
   ]
  },
  {
   "cell_type": "code",
   "execution_count": 102,
   "metadata": {
    "colab": {},
    "colab_type": "code",
    "id": "VlzpYTkYFcv_"
   },
   "outputs": [
    {
     "data": {
      "image/png": "[encoded data removed]",
      "text/plain": [
       "<Figure size 432x288 with 1 Axes>"
      ]
     },
     "metadata": {
      "needs_background": "light"
     },
     "output_type": "display_data"
    }
   ],
   "source": [
    "# Make a variable called 'histo', and assign to it the result of plotting a histogram of the difference list. \n",
    "histo = plt.hist(difference)"
   ]
  },
  {
   "cell_type": "code",
   "execution_count": 103,
   "metadata": {
    "colab": {},
    "colab_type": "code",
    "id": "KhqgDFd3FcwB"
   },
   "outputs": [
    {
     "name": "stdout",
     "output_type": "stream",
     "text": [
      "0.1420605474512291\n"
     ]
    }
   ],
   "source": [
    "# Now make a variable called obs_difference, and assign it the result of the mean of our 'apple' variable and the mean of our 'google variable'\n",
    "obs_difference = apple.mean() - google.mean()\n",
    "\n",
    "# Make this difference absolute with the built-in abs() function. \n",
    "obs_difference = abs(obs_difference)\n",
    "\n",
    "# Print out this value; it should be 0.1420605474512291. \n",
    "print(obs_difference)"
   ]
  },
  {
   "cell_type": "markdown",
   "metadata": {
    "colab_type": "text",
    "id": "QUNuuSgDFcwE"
   },
   "source": [
    "## Stage 4 -  Evaluating and concluding\n",
    "### 4a. What is our conclusion?"
   ]
  },
  {
   "cell_type": "code",
   "execution_count": 106,
   "metadata": {
    "colab": {},
    "colab_type": "code",
    "id": "XMQHnqx1FcwF"
   },
   "outputs": [
    {
     "data": {
      "text/plain": [
       "0.0"
      ]
     },
     "execution_count": 106,
     "metadata": {},
     "output_type": "execute_result"
    }
   ],
   "source": [
    "'''\n",
    "What do we know? \n",
    "\n",
    "Recall: The p-value of our observed data is just the proportion of the data given the null that's at least as extreme as that observed data.\n",
    "\n",
    "As a result, we're going to count how many of the differences in our difference list are at least as extreme as our observed difference.\n",
    "\n",
    "If less than or equal to 5% of them are, then we will reject the Null. \n",
    "'''\n",
    "1-stats.percentileofscore(difference, obs_difference)/100"
   ]
  },
  {
   "cell_type": "markdown",
   "metadata": {
    "colab_type": "text",
    "id": "4RTofY9wFcwI"
   },
   "source": [
    "### 4b. What is our decision?\n",
    "So actually, zero differences are at least as extreme as our observed difference!\n",
    "\n",
    "So the p-value of our observed data is 0. \n",
    "\n",
    "It doesn't matter which significance level we pick; our observed data is statistically significant, and we reject the Null.\n",
    "\n",
    "We conclude that platform does impact on ratings. Specifically, we should advise our client to integrate **only Google Play** into their operating system interface. "
   ]
  },
  {
   "cell_type": "markdown",
   "metadata": {
    "colab_type": "text",
    "id": "Cu_eh7fTFcwJ"
   },
   "source": [
    "### 4c. Other statistical tests, and next steps\n",
    "The test we used here is the Permutation test. This was appropriate because our data were not normally distributed! \n",
    "\n",
    "As we've seen in Professor Spiegelhalter's book, there are actually many different statistical tests, all with different assumptions. How many of these different statistical tests can you remember? How much do you remember about what the appropriate conditions are under which to use them? \n",
    "\n",
    "Make a note of your answers to these questions, and discuss them with your mentor at your next call. \n"
   ]
  }
 ],
 "metadata": {
  "colab": {
   "collapsed_sections": [
    "5fbRq2MZFcvq",
    "4RTofY9wFcwI",
    "Cu_eh7fTFcwJ"
   ],
   "name": "Springboard Apps project - Tier 3 - Complete.ipynb",
   "provenance": []
  },
  "kernelspec": {
   "display_name": "Python 3",
   "language": "python",
   "name": "python3"
  },
  "language_info": {
   "codemirror_mode": {
    "name": "ipython",
    "version": 3
   },
   "file_extension": ".py",
   "mimetype": "text/x-python",
   "name": "python",
   "nbconvert_exporter": "python",
   "pygments_lexer": "ipython3",
   "version": "3.7.8"
  }
 },
 "nbformat": 4,
 "nbformat_minor": 1
}
